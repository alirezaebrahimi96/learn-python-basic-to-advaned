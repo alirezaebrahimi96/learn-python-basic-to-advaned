{
 "cells": [
  {
   "cell_type": "markdown",
   "id": "f54a2e09",
   "metadata": {},
   "source": [
    "A RegEx, or Regular Expression, is a sequence of characters that forms a search pattern.\n",
    "\n",
    "RegEx can be used to check if a string contains the specified search pattern."
   ]
  },
  {
   "cell_type": "code",
   "execution_count": 1,
   "id": "c0a871e3",
   "metadata": {},
   "outputs": [],
   "source": [
    "import re\n",
    "\n",
    "txt = \"The rain in Spain\"\n",
    "x = re.search(\"^The.*Spain$\", txt)"
   ]
  },
  {
   "cell_type": "code",
   "execution_count": 2,
   "id": "bebf7f06",
   "metadata": {},
   "outputs": [
    {
     "data": {
      "text/plain": [
       "<re.Match object; span=(0, 17), match='The rain in Spain'>"
      ]
     },
     "execution_count": 2,
     "metadata": {},
     "output_type": "execute_result"
    }
   ],
   "source": [
    "x"
   ]
  },
  {
   "cell_type": "markdown",
   "id": "2806087e",
   "metadata": {},
   "source": [
    "# \\ Signals a special sequence \\d"
   ]
  },
  {
   "cell_type": "markdown",
   "id": "1f59a7a3",
   "metadata": {},
   "source": [
    "# [a-m] A set of characters"
   ]
  },
  {
   "cell_type": "markdown",
   "id": "9778414f",
   "metadata": {},
   "source": [
    "# . Any character (except newline character) he..o"
   ]
  },
  {
   "cell_type": "markdown",
   "id": "9200c85f",
   "metadata": {},
   "source": [
    "# ^ Starts with"
   ]
  },
  {
   "cell_type": "markdown",
   "id": "25d31b78",
   "metadata": {},
   "source": [
    "#  Ends with end$"
   ]
  },
  {
   "cell_type": "markdown",
   "id": "34687c31",
   "metadata": {},
   "source": [
    "# Zero or more occurrences *"
   ]
  },
  {
   "cell_type": "markdown",
   "id": "3558364c",
   "metadata": {},
   "source": [
    "# One or more occurrences +"
   ]
  },
  {
   "cell_type": "markdown",
   "id": "70bdc576",
   "metadata": {},
   "source": [
    "# Zero or one occurrences ?"
   ]
  },
  {
   "cell_type": "markdown",
   "id": "1c7185d6",
   "metadata": {},
   "source": [
    "# Exactly the specified number of occurrences {}"
   ]
  },
  {
   "cell_type": "markdown",
   "id": "a7f2b4df",
   "metadata": {},
   "source": [
    "# Either or |"
   ]
  },
  {
   "cell_type": "markdown",
   "id": "e0055b7e",
   "metadata": {},
   "source": [
    "# Capture and group ()"
   ]
  },
  {
   "cell_type": "code",
   "execution_count": null,
   "id": "615c3f67",
   "metadata": {},
   "outputs": [],
   "source": []
  }
 ],
 "metadata": {
  "kernelspec": {
   "display_name": "Python 3",
   "language": "python",
   "name": "python3"
  },
  "language_info": {
   "codemirror_mode": {
    "name": "ipython",
    "version": 3
   },
   "file_extension": ".py",
   "mimetype": "text/x-python",
   "name": "python",
   "nbconvert_exporter": "python",
   "pygments_lexer": "ipython3",
   "version": "3.9.9"
  }
 },
 "nbformat": 4,
 "nbformat_minor": 5
}
