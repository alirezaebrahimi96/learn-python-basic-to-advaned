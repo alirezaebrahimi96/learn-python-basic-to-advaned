{
 "cells": [
  {
   "cell_type": "markdown",
   "id": "9ce41bd6",
   "metadata": {},
   "source": [
    "# name_function.py"
   ]
  },
  {
   "cell_type": "code",
   "execution_count": 4,
   "id": "04d77255",
   "metadata": {},
   "outputs": [],
   "source": [
    "def get_formatted_name(first, last):\n",
    "    \"\"\"Generate a neatly formatted full name.\"\"\"\n",
    "    full_name = f\"{first} {last}\"\n",
    "    return full_name.title()"
   ]
  },
  {
   "cell_type": "code",
   "execution_count": 6,
   "id": "4d15d138",
   "metadata": {},
   "outputs": [
    {
     "data": {
      "text/plain": [
       "'Janis Joplin'"
      ]
     },
     "execution_count": 6,
     "metadata": {},
     "output_type": "execute_result"
    }
   ],
   "source": [
    "get_formatted_name('janis', 'joplin')"
   ]
  },
  {
   "cell_type": "code",
   "execution_count": 10,
   "id": "7a3fc64c",
   "metadata": {},
   "outputs": [
    {
     "name": "stderr",
     "output_type": "stream",
     "text": [
      "E\n",
      "======================================================================\n",
      "ERROR: /home/alireza/ (unittest.loader._FailedTest)\n",
      "----------------------------------------------------------------------\n",
      "AttributeError: module '__main__' has no attribute '/home/alireza/'\n",
      "\n",
      "----------------------------------------------------------------------\n",
      "Ran 1 test in 0.001s\n",
      "\n",
      "FAILED (errors=1)\n"
     ]
    },
    {
     "ename": "SystemExit",
     "evalue": "True",
     "output_type": "error",
     "traceback": [
      "An exception has occurred, use %tb to see the full traceback.\n",
      "\u001b[0;31mSystemExit\u001b[0m\u001b[0;31m:\u001b[0m True\n"
     ]
    },
    {
     "name": "stderr",
     "output_type": "stream",
     "text": [
      "/home/alireza/.local/lib/python3.9/site-packages/IPython/core/interactiveshell.py:3465: UserWarning: To exit: use 'exit', 'quit', or Ctrl-D.\n",
      "  warn(\"To exit: use 'exit', 'quit', or Ctrl-D.\", stacklevel=1)\n"
     ]
    }
   ],
   "source": [
    "import unittest\n",
    "from name_function import get_formatted_name\n",
    "class NamesTestCase(unittest.TestCase):\n",
    "    \"\"\"Tests for 'name_function.py'.\"\"\"\n",
    "    def test_first_last_name(self):\n",
    "        \"\"\"Do names like 'Janis Joplin' work?\"\"\"\n",
    "        formatted_name = get_formatted_name('janis', 'joplin')\n",
    "        self.assertEqual(formatted_name, 'Janis Joplin')\n",
    "if __name__ == '__main__':\n",
    "    unittest.main()"
   ]
  },
  {
   "cell_type": "markdown",
   "id": "5e1ef1c0",
   "metadata": {},
   "source": [
    "### assertEqual(a, b)\n",
    "### assertNotEqual(a, b)\n",
    "### assertTrue(x)\n",
    "### assertFalse(x)\n",
    "### assertIn(item, list)\n",
    "### assertNotIn(item, list)"
   ]
  },
  {
   "cell_type": "markdown",
   "id": "2f7c10fc",
   "metadata": {},
   "source": [
    "# survey.py"
   ]
  },
  {
   "cell_type": "code",
   "execution_count": 11,
   "id": "b8ba61ae",
   "metadata": {},
   "outputs": [],
   "source": [
    "class AnonymousSurvey:\n",
    "    \"\"\"Collect anonymous answers to a survey question.\"\"\"\n",
    "    def __init__(self, question):\n",
    "        \"\"\"Store a question, and prepare to store responses.\"\"\"\n",
    "        self.question = question\n",
    "        self.responses = []\n",
    "    def show_question(self):\n",
    "        \"\"\"Show the survey question.\"\"\"\n",
    "        print(self.question)\n",
    "    def store_response(self, new_response):\n",
    "        \"\"\"Store a single response to the survey.\"\"\"\n",
    "        self.responses.append(new_response)\n",
    "    def show_results(self):\n",
    "        \"\"\"Show all the responses that have been given.\"\"\"\n",
    "        print(\"Survey results:\")\n",
    "        for response in self.responses:\n",
    "            print(f\"- {response}\")"
   ]
  },
  {
   "cell_type": "code",
   "execution_count": 12,
   "id": "a26ed242",
   "metadata": {},
   "outputs": [
    {
     "name": "stdout",
     "output_type": "stream",
     "text": [
      "What language did you first learn to speak?\n",
      "Enter 'q' at any time to quit.\n",
      "\n",
      "Language: python\n",
      "\n",
      "Thank you to everyone who participated in the survey!\n",
      "Survey results:\n",
      "- python\n",
      "Language: C\n",
      "\n",
      "Thank you to everyone who participated in the survey!\n",
      "Survey results:\n",
      "- python\n",
      "- C\n",
      "Language: q\n"
     ]
    }
   ],
   "source": [
    "#from survey import AnonymousSurvey\n",
    "# Define a question, and make a survey.\n",
    "question = \"What language did you first learn to speak?\"\n",
    "my_survey = AnonymousSurvey(question)\n",
    "# Show the question, and store responses to the question.\n",
    "my_survey.show_question()\n",
    "print(\"Enter 'q' at any time to quit.\\n\")\n",
    "while True:\n",
    "    response = input(\"Language: \")\n",
    "    if response == 'q':\n",
    "        break\n",
    "    my_survey.store_response(response)\n",
    "    # Show the survey results.\n",
    "    print(\"\\nThank you to everyone who participated in the survey!\")\n",
    "    my_survey.show_results()"
   ]
  },
  {
   "cell_type": "code",
   "execution_count": 14,
   "id": "035b9d1f",
   "metadata": {},
   "outputs": [
    {
     "name": "stderr",
     "output_type": "stream",
     "text": [
      "E\n",
      "======================================================================\n",
      "ERROR: /home/alireza/ (unittest.loader._FailedTest)\n",
      "----------------------------------------------------------------------\n",
      "AttributeError: module '__main__' has no attribute '/home/alireza/'\n",
      "\n",
      "----------------------------------------------------------------------\n",
      "Ran 1 test in 0.002s\n",
      "\n",
      "FAILED (errors=1)\n"
     ]
    },
    {
     "ename": "SystemExit",
     "evalue": "True",
     "output_type": "error",
     "traceback": [
      "An exception has occurred, use %tb to see the full traceback.\n",
      "\u001b[0;31mSystemExit\u001b[0m\u001b[0;31m:\u001b[0m True\n"
     ]
    },
    {
     "name": "stderr",
     "output_type": "stream",
     "text": [
      "/home/alireza/.local/lib/python3.9/site-packages/IPython/core/interactiveshell.py:3465: UserWarning: To exit: use 'exit', 'quit', or Ctrl-D.\n",
      "  warn(\"To exit: use 'exit', 'quit', or Ctrl-D.\", stacklevel=1)\n"
     ]
    }
   ],
   "source": [
    "import unittest\n",
    "from survey import AnonymousSurvey\n",
    "class TestAnonymousSurvey(unittest.TestCase):\n",
    "    \"\"\"Tests for the class AnonymousSurvey\"\"\"\n",
    "    def test_store_single_response(self):\n",
    "        \"\"\"Test that a single response is stored properly.\"\"\"\n",
    "        question = \"What language did you first learn to speak?\"\n",
    "        my_survey = AnonymousSurvey(question)\n",
    "        my_survey.store_response('English')\n",
    "        self.assertIn('English', my_survey.responses)\n",
    "\n",
    "if __name__ == '__main__':\n",
    "    unittest.main()"
   ]
  },
  {
   "cell_type": "code",
   "execution_count": null,
   "id": "5b144026",
   "metadata": {},
   "outputs": [],
   "source": []
  }
 ],
 "metadata": {
  "kernelspec": {
   "display_name": "Python 3",
   "language": "python",
   "name": "python3"
  },
  "language_info": {
   "codemirror_mode": {
    "name": "ipython",
    "version": 3
   },
   "file_extension": ".py",
   "mimetype": "text/x-python",
   "name": "python",
   "nbconvert_exporter": "python",
   "pygments_lexer": "ipython3",
   "version": "3.9.9"
  }
 },
 "nbformat": 4,
 "nbformat_minor": 5
}
