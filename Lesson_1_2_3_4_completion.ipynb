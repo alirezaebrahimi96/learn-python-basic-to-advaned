{
 "cells": [
  {
   "cell_type": "code",
   "execution_count": 11,
   "id": "e84207a3",
   "metadata": {},
   "outputs": [
    {
     "data": {
      "text/plain": [
       "5"
      ]
     },
     "execution_count": 11,
     "metadata": {},
     "output_type": "execute_result"
    }
   ],
   "source": [
    "2 + 3"
   ]
  },
  {
   "cell_type": "code",
   "execution_count": 12,
   "id": "1aa7c611",
   "metadata": {},
   "outputs": [
    {
     "data": {
      "text/plain": [
       "-1"
      ]
     },
     "execution_count": 12,
     "metadata": {},
     "output_type": "execute_result"
    }
   ],
   "source": [
    "2 - 3"
   ]
  },
  {
   "cell_type": "code",
   "execution_count": 14,
   "id": "dcd795e0",
   "metadata": {},
   "outputs": [
    {
     "data": {
      "text/plain": [
       "0.6666666666666666"
      ]
     },
     "execution_count": 14,
     "metadata": {},
     "output_type": "execute_result"
    }
   ],
   "source": [
    "2 / 3"
   ]
  },
  {
   "cell_type": "code",
   "execution_count": 19,
   "id": "aa28d77b",
   "metadata": {},
   "outputs": [
    {
     "data": {
      "text/plain": [
       "1"
      ]
     },
     "execution_count": 19,
     "metadata": {},
     "output_type": "execute_result"
    }
   ],
   "source": [
    "5 % 2"
   ]
  },
  {
   "cell_type": "code",
   "execution_count": 20,
   "id": "c00b5b45",
   "metadata": {},
   "outputs": [
    {
     "data": {
      "text/plain": [
       "8"
      ]
     },
     "execution_count": 20,
     "metadata": {},
     "output_type": "execute_result"
    }
   ],
   "source": [
    "2 ** 3"
   ]
  },
  {
   "cell_type": "code",
   "execution_count": 21,
   "id": "5da6999a",
   "metadata": {},
   "outputs": [
    {
     "data": {
      "text/plain": [
       "3"
      ]
     },
     "execution_count": 21,
     "metadata": {},
     "output_type": "execute_result"
    }
   ],
   "source": [
    "6 // 2"
   ]
  },
  {
   "cell_type": "code",
   "execution_count": 22,
   "id": "a3212dcd",
   "metadata": {},
   "outputs": [
    {
     "data": {
      "text/plain": [
       "2"
      ]
     },
     "execution_count": 22,
     "metadata": {},
     "output_type": "execute_result"
    }
   ],
   "source": [
    "5 // 2"
   ]
  },
  {
   "cell_type": "code",
   "execution_count": 23,
   "id": "90eed49e",
   "metadata": {},
   "outputs": [],
   "source": [
    "x = 5"
   ]
  },
  {
   "cell_type": "code",
   "execution_count": 24,
   "id": "d46cabd4",
   "metadata": {},
   "outputs": [],
   "source": [
    "x += 1"
   ]
  },
  {
   "cell_type": "code",
   "execution_count": 25,
   "id": "5a592603",
   "metadata": {},
   "outputs": [
    {
     "data": {
      "text/plain": [
       "6"
      ]
     },
     "execution_count": 25,
     "metadata": {},
     "output_type": "execute_result"
    }
   ],
   "source": [
    "x"
   ]
  },
  {
   "cell_type": "code",
   "execution_count": 26,
   "id": "d0ccf4b3",
   "metadata": {},
   "outputs": [],
   "source": [
    "x -= 5"
   ]
  },
  {
   "cell_type": "code",
   "execution_count": 27,
   "id": "e69e9438",
   "metadata": {},
   "outputs": [
    {
     "data": {
      "text/plain": [
       "1"
      ]
     },
     "execution_count": 27,
     "metadata": {},
     "output_type": "execute_result"
    }
   ],
   "source": [
    "x"
   ]
  },
  {
   "cell_type": "code",
   "execution_count": 28,
   "id": "54813ad5",
   "metadata": {},
   "outputs": [],
   "source": [
    "x *= 5"
   ]
  },
  {
   "cell_type": "code",
   "execution_count": 29,
   "id": "18dfc5ee",
   "metadata": {},
   "outputs": [
    {
     "data": {
      "text/plain": [
       "5"
      ]
     },
     "execution_count": 29,
     "metadata": {},
     "output_type": "execute_result"
    }
   ],
   "source": [
    "x"
   ]
  },
  {
   "cell_type": "code",
   "execution_count": 34,
   "id": "d4d7b4cf",
   "metadata": {},
   "outputs": [
    {
     "data": {
      "text/plain": [
       "6"
      ]
     },
     "execution_count": 34,
     "metadata": {},
     "output_type": "execute_result"
    }
   ],
   "source": [
    "5 ^ 3"
   ]
  },
  {
   "cell_type": "code",
   "execution_count": 35,
   "id": "61a84a6e",
   "metadata": {},
   "outputs": [
    {
     "data": {
      "text/plain": [
       "5"
      ]
     },
     "execution_count": 35,
     "metadata": {},
     "output_type": "execute_result"
    }
   ],
   "source": [
    "6 ^ 3"
   ]
  },
  {
   "cell_type": "code",
   "execution_count": 37,
   "id": "8b462d71",
   "metadata": {},
   "outputs": [],
   "source": [
    "#a = 1010 (binary)\n",
    "a = 10"
   ]
  },
  {
   "cell_type": "code",
   "execution_count": 38,
   "id": "1016b24c",
   "metadata": {},
   "outputs": [],
   "source": [
    "#b = 0100 (binary)\n",
    "b = 4"
   ]
  },
  {
   "cell_type": "code",
   "execution_count": 39,
   "id": "94db5420",
   "metadata": {},
   "outputs": [
    {
     "data": {
      "text/plain": [
       "0"
      ]
     },
     "execution_count": 39,
     "metadata": {},
     "output_type": "execute_result"
    }
   ],
   "source": [
    "a & b"
   ]
  },
  {
   "cell_type": "code",
   "execution_count": 40,
   "id": "fb4816bb",
   "metadata": {},
   "outputs": [
    {
     "data": {
      "text/plain": [
       "10"
      ]
     },
     "execution_count": 40,
     "metadata": {},
     "output_type": "execute_result"
    }
   ],
   "source": [
    "a & a"
   ]
  },
  {
   "cell_type": "markdown",
   "id": "9b745c64",
   "metadata": {},
   "source": [
    "#   & Returns 1 if both the bots are 1 else 0"
   ]
  },
  {
   "cell_type": "code",
   "execution_count": 41,
   "id": "60973fca",
   "metadata": {},
   "outputs": [
    {
     "data": {
      "text/plain": [
       "14"
      ]
     },
     "execution_count": 41,
     "metadata": {},
     "output_type": "execute_result"
    }
   ],
   "source": [
    "a | b"
   ]
  },
  {
   "cell_type": "markdown",
   "id": "fa843fd0",
   "metadata": {},
   "source": [
    "#   | Returns 1 if either of the bits is 1 else 0"
   ]
  },
  {
   "cell_type": "code",
   "execution_count": 42,
   "id": "a9abb45c",
   "metadata": {},
   "outputs": [
    {
     "data": {
      "text/plain": [
       "-11"
      ]
     },
     "execution_count": 42,
     "metadata": {},
     "output_type": "execute_result"
    }
   ],
   "source": [
    "~a"
   ]
  },
  {
   "cell_type": "code",
   "execution_count": 43,
   "id": "270cb686",
   "metadata": {},
   "outputs": [
    {
     "data": {
      "text/plain": [
       "-5"
      ]
     },
     "execution_count": 43,
     "metadata": {},
     "output_type": "execute_result"
    }
   ],
   "source": [
    "~b"
   ]
  },
  {
   "cell_type": "markdown",
   "id": "3213939d",
   "metadata": {},
   "source": [
    "# ~ returns one's complement of the number\n",
    "# example(~1010 = -(1010 + 1))"
   ]
  },
  {
   "cell_type": "markdown",
   "id": "5b4481d2",
   "metadata": {},
   "source": [
    "# & and\n",
    "# | or\n",
    "# ~ not (invert)\n",
    "# ^ xor\n",
    "# >> << shift"
   ]
  },
  {
   "cell_type": "code",
   "execution_count": 44,
   "id": "58f873d5",
   "metadata": {},
   "outputs": [
    {
     "data": {
      "text/plain": [
       "14"
      ]
     },
     "execution_count": 44,
     "metadata": {},
     "output_type": "execute_result"
    }
   ],
   "source": [
    "a ^ b"
   ]
  },
  {
   "cell_type": "markdown",
   "id": "b1f1721f",
   "metadata": {},
   "source": [
    "# ^ returns 1 if one of the bits is 1 and the other is 0 else return false"
   ]
  },
  {
   "cell_type": "markdown",
   "id": "082696cd",
   "metadata": {},
   "source": [
    "a = 5 = 0000 0101"
   ]
  },
  {
   "cell_type": "markdown",
   "id": "7e0451c4",
   "metadata": {},
   "source": [
    "a << 1 = 0000 1010 = 10"
   ]
  },
  {
   "cell_type": "markdown",
   "id": "5a7cd1dc",
   "metadata": {},
   "source": [
    "b = 10 = 1111 0110"
   ]
  },
  {
   "cell_type": "markdown",
   "id": "2b548675",
   "metadata": {},
   "source": [
    "b << 1 = 1110 1100 = -20"
   ]
  },
  {
   "cell_type": "code",
   "execution_count": 45,
   "id": "1a7d3a7a",
   "metadata": {},
   "outputs": [
    {
     "name": "stdout",
     "output_type": "stream",
     "text": [
      "And operator overloaded\n",
      "8\n",
      "Or operator overloaded\n",
      "14\n",
      "Xor operator overloaded\n",
      "6\n",
      "lshift operator overloaded\n",
      "40960\n",
      "rshift operator overloaded\n",
      "8\n",
      "Invert operator overloaded\n",
      "-11\n"
     ]
    }
   ],
   "source": [
    "# Python program to demonstrate\n",
    "# operator overloading\n",
    "\n",
    "\n",
    "class Geek():\n",
    "\tdef __init__(self, value):\n",
    "\t\tself.value = value\n",
    "\n",
    "\tdef __and__(self, obj):\n",
    "\t\tprint(\"And operator overloaded\")\n",
    "\t\tif isinstance(obj, Geek):\n",
    "\t\t\treturn self.value & obj.value\n",
    "\t\telse:\n",
    "\t\t\traise ValueError(\"Must be a object of class Geek\")\n",
    "\n",
    "\tdef __or__(self, obj):\n",
    "\t\tprint(\"Or operator overloaded\")\n",
    "\t\tif isinstance(obj, Geek):\n",
    "\t\t\treturn self.value | obj.value\n",
    "\t\telse:\n",
    "\t\t\traise ValueError(\"Must be a object of class Geek\")\n",
    "\n",
    "\tdef __xor__(self, obj):\n",
    "\t\tprint(\"Xor operator overloaded\")\n",
    "\t\tif isinstance(obj, Geek):\n",
    "\t\t\treturn self.value ^ obj.value\n",
    "\t\telse:\n",
    "\t\t\traise ValueError(\"Must be a object of class Geek\")\n",
    "\n",
    "\tdef __lshift__(self, obj):\n",
    "\t\tprint(\"lshift operator overloaded\")\n",
    "\t\tif isinstance(obj, Geek):\n",
    "\t\t\treturn self.value << obj.value\n",
    "\t\telse:\n",
    "\t\t\traise ValueError(\"Must be a object of class Geek\")\n",
    "\n",
    "\tdef __rshift__(self, obj):\n",
    "\t\tprint(\"rshift operator overloaded\")\n",
    "\t\tif isinstance(obj, Geek):\n",
    "\t\t\treturn self.value & obj.value\n",
    "\t\telse:\n",
    "\t\t\traise ValueError(\"Must be a object of class Geek\")\n",
    "\n",
    "\tdef __invert__(self):\n",
    "\t\tprint(\"Invert operator overloaded\")\n",
    "\t\treturn ~self.value\n",
    "\n",
    "\n",
    "# Driver's code\n",
    "if __name__ == \"__main__\":\n",
    "\ta = Geek(10)\n",
    "\tb = Geek(12)\n",
    "\tprint(a & b)\n",
    "\tprint(a | b)\n",
    "\tprint(a ^ b)\n",
    "\tprint(a << b)\n",
    "\tprint(a >> b)\n",
    "\tprint(~a)\n"
   ]
  },
  {
   "cell_type": "code",
   "execution_count": 46,
   "id": "8e2a3b9d",
   "metadata": {},
   "outputs": [],
   "source": [
    "x = isinstance(5, int) "
   ]
  },
  {
   "cell_type": "code",
   "execution_count": 47,
   "id": "8c9d6f2e",
   "metadata": {},
   "outputs": [
    {
     "data": {
      "text/plain": [
       "True"
      ]
     },
     "execution_count": 47,
     "metadata": {},
     "output_type": "execute_result"
    }
   ],
   "source": [
    "x"
   ]
  },
  {
   "cell_type": "code",
   "execution_count": 48,
   "id": "cb974249",
   "metadata": {},
   "outputs": [
    {
     "data": {
      "text/plain": [
       "int"
      ]
     },
     "execution_count": 48,
     "metadata": {},
     "output_type": "execute_result"
    }
   ],
   "source": [
    "type(5)"
   ]
  },
  {
   "cell_type": "code",
   "execution_count": 5,
   "id": "f1071292",
   "metadata": {},
   "outputs": [
    {
     "name": "stdout",
     "output_type": "stream",
     "text": [
      "13\n"
     ]
    }
   ],
   "source": [
    "x = lambda a, b, c : a + b + c\n",
    "print(x(5, 6, 2)) "
   ]
  },
  {
   "cell_type": "code",
   "execution_count": 6,
   "id": "7705499e",
   "metadata": {},
   "outputs": [
    {
     "data": {
      "text/plain": [
       "True"
      ]
     },
     "execution_count": 6,
     "metadata": {},
     "output_type": "execute_result"
    }
   ],
   "source": [
    "1 != 5"
   ]
  },
  {
   "cell_type": "code",
   "execution_count": 13,
   "id": "3a1a5a82",
   "metadata": {},
   "outputs": [
    {
     "data": {
      "text/plain": [
       "6"
      ]
     },
     "execution_count": 13,
     "metadata": {},
     "output_type": "execute_result"
    }
   ],
   "source": [
    "2 * 3"
   ]
  },
  {
   "cell_type": "code",
   "execution_count": 1,
   "id": "08b6e3cb",
   "metadata": {},
   "outputs": [
    {
     "name": "stdout",
     "output_type": "stream",
     "text": [
      "aa\n",
      "bb\n",
      "cc\n"
     ]
    }
   ],
   "source": [
    "stuff = ['aa', 'bb', 'cc']\n",
    "for item in stuff:\n",
    "    print(item)"
   ]
  },
  {
   "cell_type": "code",
   "execution_count": 2,
   "id": "cc8525da",
   "metadata": {},
   "outputs": [
    {
     "data": {
      "text/plain": [
       "str"
      ]
     },
     "execution_count": 2,
     "metadata": {},
     "output_type": "execute_result"
    }
   ],
   "source": [
    "type(item)"
   ]
  },
  {
   "cell_type": "code",
   "execution_count": 3,
   "id": "6fd545f2",
   "metadata": {},
   "outputs": [
    {
     "data": {
      "text/plain": [
       "['__add__',\n",
       " '__class__',\n",
       " '__contains__',\n",
       " '__delattr__',\n",
       " '__dir__',\n",
       " '__doc__',\n",
       " '__eq__',\n",
       " '__format__',\n",
       " '__ge__',\n",
       " '__getattribute__',\n",
       " '__getitem__',\n",
       " '__getnewargs__',\n",
       " '__gt__',\n",
       " '__hash__',\n",
       " '__init__',\n",
       " '__init_subclass__',\n",
       " '__iter__',\n",
       " '__le__',\n",
       " '__len__',\n",
       " '__lt__',\n",
       " '__mod__',\n",
       " '__mul__',\n",
       " '__ne__',\n",
       " '__new__',\n",
       " '__reduce__',\n",
       " '__reduce_ex__',\n",
       " '__repr__',\n",
       " '__rmod__',\n",
       " '__rmul__',\n",
       " '__setattr__',\n",
       " '__sizeof__',\n",
       " '__str__',\n",
       " '__subclasshook__',\n",
       " 'capitalize',\n",
       " 'casefold',\n",
       " 'center',\n",
       " 'count',\n",
       " 'encode',\n",
       " 'endswith',\n",
       " 'expandtabs',\n",
       " 'find',\n",
       " 'format',\n",
       " 'format_map',\n",
       " 'index',\n",
       " 'isalnum',\n",
       " 'isalpha',\n",
       " 'isascii',\n",
       " 'isdecimal',\n",
       " 'isdigit',\n",
       " 'isidentifier',\n",
       " 'islower',\n",
       " 'isnumeric',\n",
       " 'isprintable',\n",
       " 'isspace',\n",
       " 'istitle',\n",
       " 'isupper',\n",
       " 'join',\n",
       " 'ljust',\n",
       " 'lower',\n",
       " 'lstrip',\n",
       " 'maketrans',\n",
       " 'partition',\n",
       " 'removeprefix',\n",
       " 'removesuffix',\n",
       " 'replace',\n",
       " 'rfind',\n",
       " 'rindex',\n",
       " 'rjust',\n",
       " 'rpartition',\n",
       " 'rsplit',\n",
       " 'rstrip',\n",
       " 'split',\n",
       " 'splitlines',\n",
       " 'startswith',\n",
       " 'strip',\n",
       " 'swapcase',\n",
       " 'title',\n",
       " 'translate',\n",
       " 'upper',\n",
       " 'zfill']"
      ]
     },
     "execution_count": 3,
     "metadata": {},
     "output_type": "execute_result"
    }
   ],
   "source": [
    "dir(item)"
   ]
  },
  {
   "cell_type": "code",
   "execution_count": 4,
   "id": "f2ef383b",
   "metadata": {},
   "outputs": [],
   "source": [
    "item.upper?"
   ]
  },
  {
   "cell_type": "code",
   "execution_count": 49,
   "id": "cdcfa5bc",
   "metadata": {},
   "outputs": [
    {
     "data": {
      "text/plain": [
       "0.8"
      ]
     },
     "execution_count": 49,
     "metadata": {},
     "output_type": "execute_result"
    }
   ],
   "source": [
    "4 / 5"
   ]
  },
  {
   "cell_type": "code",
   "execution_count": 50,
   "id": "8b60b741",
   "metadata": {},
   "outputs": [],
   "source": [
    "l = list(i for i in range(10))"
   ]
  },
  {
   "cell_type": "code",
   "execution_count": 51,
   "id": "508ab1f0",
   "metadata": {},
   "outputs": [
    {
     "data": {
      "text/plain": [
       "[0, 1, 2, 3, 4, 5, 6, 7, 8, 9]"
      ]
     },
     "execution_count": 51,
     "metadata": {},
     "output_type": "execute_result"
    }
   ],
   "source": [
    "l"
   ]
  },
  {
   "cell_type": "code",
   "execution_count": 57,
   "id": "51726c0f",
   "metadata": {},
   "outputs": [],
   "source": [
    "l2 = 3 * l"
   ]
  },
  {
   "cell_type": "code",
   "execution_count": 58,
   "id": "381154b1",
   "metadata": {},
   "outputs": [
    {
     "data": {
      "text/plain": [
       "[0,\n",
       " 1,\n",
       " 2,\n",
       " 3,\n",
       " 4,\n",
       " 5,\n",
       " 6,\n",
       " 7,\n",
       " 8,\n",
       " 9,\n",
       " 0,\n",
       " 1,\n",
       " 2,\n",
       " 3,\n",
       " 4,\n",
       " 5,\n",
       " 6,\n",
       " 7,\n",
       " 8,\n",
       " 9,\n",
       " 0,\n",
       " 1,\n",
       " 2,\n",
       " 3,\n",
       " 4,\n",
       " 5,\n",
       " 6,\n",
       " 7,\n",
       " 8,\n",
       " 9]"
      ]
     },
     "execution_count": 58,
     "metadata": {},
     "output_type": "execute_result"
    }
   ],
   "source": [
    "l2"
   ]
  },
  {
   "cell_type": "code",
   "execution_count": 59,
   "id": "2ae67f0d",
   "metadata": {},
   "outputs": [
    {
     "data": {
      "text/plain": [
       "[0,\n",
       " 1,\n",
       " 2,\n",
       " 3,\n",
       " 4,\n",
       " 5,\n",
       " 6,\n",
       " 7,\n",
       " 8,\n",
       " 9,\n",
       " 0,\n",
       " 1,\n",
       " 2,\n",
       " 3,\n",
       " 4,\n",
       " 5,\n",
       " 6,\n",
       " 7,\n",
       " 8,\n",
       " 9,\n",
       " 0,\n",
       " 1,\n",
       " 2,\n",
       " 3,\n",
       " 4,\n",
       " 5,\n",
       " 6,\n",
       " 7,\n",
       " 8,\n",
       " 9,\n",
       " 0,\n",
       " 1,\n",
       " 2,\n",
       " 3,\n",
       " 4,\n",
       " 5,\n",
       " 6,\n",
       " 7,\n",
       " 8,\n",
       " 9]"
      ]
     },
     "execution_count": 59,
     "metadata": {},
     "output_type": "execute_result"
    }
   ],
   "source": [
    "l + l2"
   ]
  },
  {
   "cell_type": "code",
   "execution_count": 60,
   "id": "9d7f2fcc",
   "metadata": {},
   "outputs": [],
   "source": [
    "l2.remove(9)"
   ]
  },
  {
   "cell_type": "code",
   "execution_count": 62,
   "id": "ea6b8fad",
   "metadata": {},
   "outputs": [
    {
     "data": {
      "text/plain": [
       "29"
      ]
     },
     "execution_count": 62,
     "metadata": {},
     "output_type": "execute_result"
    }
   ],
   "source": [
    "len(l2)"
   ]
  },
  {
   "cell_type": "code",
   "execution_count": 63,
   "id": "fb369ab6",
   "metadata": {},
   "outputs": [],
   "source": [
    "my_list = ['a', 'b', 'c']"
   ]
  },
  {
   "cell_type": "code",
   "execution_count": 64,
   "id": "aefea1e3",
   "metadata": {},
   "outputs": [],
   "source": [
    "my_list.append('d')"
   ]
  },
  {
   "cell_type": "code",
   "execution_count": 65,
   "id": "169546d0",
   "metadata": {},
   "outputs": [
    {
     "data": {
      "text/plain": [
       "['a', 'b', 'c', 'd']"
      ]
     },
     "execution_count": 65,
     "metadata": {},
     "output_type": "execute_result"
    }
   ],
   "source": [
    "my_list"
   ]
  },
  {
   "cell_type": "code",
   "execution_count": 66,
   "id": "6cd34676",
   "metadata": {},
   "outputs": [
    {
     "data": {
      "text/plain": [
       "[0, 1, 2, 3, 4, 5, 6, 7, 8, 9]"
      ]
     },
     "execution_count": 66,
     "metadata": {},
     "output_type": "execute_result"
    }
   ],
   "source": [
    "l"
   ]
  },
  {
   "cell_type": "code",
   "execution_count": 71,
   "id": "f0b97117",
   "metadata": {},
   "outputs": [],
   "source": [
    "my_list.extend(l)"
   ]
  },
  {
   "cell_type": "code",
   "execution_count": 72,
   "id": "271ea69b",
   "metadata": {},
   "outputs": [
    {
     "data": {
      "text/plain": [
       "['a',\n",
       " 'b',\n",
       " 'c',\n",
       " 'd',\n",
       " 0,\n",
       " 1,\n",
       " 2,\n",
       " 3,\n",
       " 4,\n",
       " 5,\n",
       " 6,\n",
       " 7,\n",
       " 8,\n",
       " 9,\n",
       " 0,\n",
       " 1,\n",
       " 2,\n",
       " 3,\n",
       " 4,\n",
       " 5,\n",
       " 6,\n",
       " 7,\n",
       " 8,\n",
       " 9,\n",
       " 0,\n",
       " 1,\n",
       " 2,\n",
       " 3,\n",
       " 4,\n",
       " 5,\n",
       " 6,\n",
       " 7,\n",
       " 8,\n",
       " 9]"
      ]
     },
     "execution_count": 72,
     "metadata": {},
     "output_type": "execute_result"
    }
   ],
   "source": [
    "my_list"
   ]
  },
  {
   "cell_type": "code",
   "execution_count": 74,
   "id": "35496e09",
   "metadata": {},
   "outputs": [],
   "source": [
    "my_list.insert(0, 'zero')"
   ]
  },
  {
   "cell_type": "code",
   "execution_count": 75,
   "id": "6678347a",
   "metadata": {},
   "outputs": [
    {
     "data": {
      "text/plain": [
       "['zero',\n",
       " 'a',\n",
       " 'b',\n",
       " 'c',\n",
       " 'd',\n",
       " 0,\n",
       " 1,\n",
       " 2,\n",
       " 3,\n",
       " 4,\n",
       " 5,\n",
       " 6,\n",
       " 7,\n",
       " 8,\n",
       " 9,\n",
       " 0,\n",
       " 1,\n",
       " 2,\n",
       " 3,\n",
       " 4,\n",
       " 5,\n",
       " 6,\n",
       " 7,\n",
       " 8,\n",
       " 9,\n",
       " 0,\n",
       " 1,\n",
       " 2,\n",
       " 3,\n",
       " 4,\n",
       " 5,\n",
       " 6,\n",
       " 7,\n",
       " 8,\n",
       " 9]"
      ]
     },
     "execution_count": 75,
     "metadata": {},
     "output_type": "execute_result"
    }
   ],
   "source": [
    "my_list"
   ]
  },
  {
   "cell_type": "code",
   "execution_count": 78,
   "id": "adee4e1f",
   "metadata": {},
   "outputs": [],
   "source": [
    "my_str = ['ali', 'reza']"
   ]
  },
  {
   "cell_type": "code",
   "execution_count": 79,
   "id": "07ec8615",
   "metadata": {},
   "outputs": [
    {
     "data": {
      "text/plain": [
       "'ali||reza'"
      ]
     },
     "execution_count": 79,
     "metadata": {},
     "output_type": "execute_result"
    }
   ],
   "source": [
    "'||'.join(my_str)"
   ]
  },
  {
   "cell_type": "code",
   "execution_count": 80,
   "id": "24f09f1e",
   "metadata": {},
   "outputs": [
    {
     "data": {
      "text/plain": [
       "'alireza'"
      ]
     },
     "execution_count": 80,
     "metadata": {},
     "output_type": "execute_result"
    }
   ],
   "source": [
    "''.join(my_str)"
   ]
  },
  {
   "cell_type": "code",
   "execution_count": 95,
   "id": "44b40921",
   "metadata": {},
   "outputs": [],
   "source": [
    "a = 10\n",
    "b = 2\n",
    "my_string = f'{a} student in {b}nd class'"
   ]
  },
  {
   "cell_type": "code",
   "execution_count": 96,
   "id": "1213f2b9",
   "metadata": {},
   "outputs": [
    {
     "data": {
      "text/plain": [
       "'10 student in 2nd class'"
      ]
     },
     "execution_count": 96,
     "metadata": {},
     "output_type": "execute_result"
    }
   ],
   "source": [
    "my_string"
   ]
  },
  {
   "cell_type": "code",
   "execution_count": 97,
   "id": "8c19634b",
   "metadata": {},
   "outputs": [
    {
     "data": {
      "text/plain": [
       "\"alireza 'my name'\""
      ]
     },
     "execution_count": 97,
     "metadata": {},
     "output_type": "execute_result"
    }
   ],
   "source": [
    "\"alireza 'my name'\""
   ]
  },
  {
   "cell_type": "code",
   "execution_count": 98,
   "id": "ae239986",
   "metadata": {},
   "outputs": [
    {
     "data": {
      "text/plain": [
       "\"alireza 'my mane' \""
      ]
     },
     "execution_count": 98,
     "metadata": {},
     "output_type": "execute_result"
    }
   ],
   "source": [
    "'alireza \\'my mane\\' '"
   ]
  },
  {
   "cell_type": "code",
   "execution_count": 105,
   "id": "5f4c0db0",
   "metadata": {},
   "outputs": [],
   "source": [
    "a = 10\n",
    "b = 2\n",
    "my_string = '{0} student in {1}nd class for {1}th year'.format(a, b)"
   ]
  },
  {
   "cell_type": "code",
   "execution_count": 106,
   "id": "7ee08d54",
   "metadata": {},
   "outputs": [
    {
     "data": {
      "text/plain": [
       "'10 student in 2nd class for 2th year'"
      ]
     },
     "execution_count": 106,
     "metadata": {},
     "output_type": "execute_result"
    }
   ],
   "source": [
    "my_string"
   ]
  },
  {
   "cell_type": "code",
   "execution_count": 112,
   "id": "f7029b2d",
   "metadata": {},
   "outputs": [
    {
     "data": {
      "text/plain": [
       "'ª'"
      ]
     },
     "execution_count": 112,
     "metadata": {},
     "output_type": "execute_result"
    }
   ],
   "source": [
    "chr(170)"
   ]
  },
  {
   "cell_type": "code",
   "execution_count": 113,
   "id": "6ae573fa",
   "metadata": {},
   "outputs": [
    {
     "data": {
      "text/plain": [
       "'エ'"
      ]
     },
     "execution_count": 113,
     "metadata": {},
     "output_type": "execute_result"
    }
   ],
   "source": [
    "chr(12456)"
   ]
  },
  {
   "cell_type": "code",
   "execution_count": 114,
   "id": "6747671a",
   "metadata": {},
   "outputs": [
    {
     "data": {
      "text/plain": [
       "'5'"
      ]
     },
     "execution_count": 114,
     "metadata": {},
     "output_type": "execute_result"
    }
   ],
   "source": [
    "'%a' % 5"
   ]
  },
  {
   "cell_type": "code",
   "execution_count": 115,
   "id": "75cc58cb",
   "metadata": {},
   "outputs": [
    {
     "data": {
      "text/plain": [
       "'    5'"
      ]
     },
     "execution_count": 115,
     "metadata": {},
     "output_type": "execute_result"
    }
   ],
   "source": [
    "'%005a' % 5"
   ]
  },
  {
   "cell_type": "code",
   "execution_count": 123,
   "id": "a026ff46",
   "metadata": {},
   "outputs": [
    {
     "data": {
      "text/plain": [
       "'00005'"
      ]
     },
     "execution_count": 123,
     "metadata": {},
     "output_type": "execute_result"
    }
   ],
   "source": [
    "'{0:005d}'.format(5)"
   ]
  },
  {
   "cell_type": "code",
   "execution_count": 124,
   "id": "bce710e4",
   "metadata": {},
   "outputs": [
    {
     "data": {
      "text/plain": [
       "{'one': 2, 'two': 3}"
      ]
     },
     "execution_count": 124,
     "metadata": {},
     "output_type": "execute_result"
    }
   ],
   "source": [
    "dict({'one': 2, 'two': 3})"
   ]
  },
  {
   "cell_type": "code",
   "execution_count": 125,
   "id": "c3825f7a",
   "metadata": {},
   "outputs": [
    {
     "data": {
      "text/plain": [
       "{'one': 2, 'two': 3}"
      ]
     },
     "execution_count": 125,
     "metadata": {},
     "output_type": "execute_result"
    }
   ],
   "source": [
    "dict({'one': 2, 'two': 3}.items())"
   ]
  },
  {
   "cell_type": "code",
   "execution_count": 127,
   "id": "d1156100",
   "metadata": {},
   "outputs": [
    {
     "data": {
      "text/plain": [
       "{'one': 2, 'two': 3}"
      ]
     },
     "execution_count": 127,
     "metadata": {},
     "output_type": "execute_result"
    }
   ],
   "source": [
    "dict(zip(('one', 'two'), (2, 3)))"
   ]
  },
  {
   "cell_type": "code",
   "execution_count": 128,
   "id": "9c796376",
   "metadata": {},
   "outputs": [
    {
     "data": {
      "text/plain": [
       "{'two': 3, 'one': 2}"
      ]
     },
     "execution_count": 128,
     "metadata": {},
     "output_type": "execute_result"
    }
   ],
   "source": [
    "dict([['two', 3], ['one', 2]])"
   ]
  },
  {
   "cell_type": "code",
   "execution_count": 129,
   "id": "519822b0",
   "metadata": {
    "scrolled": true
   },
   "outputs": [
    {
     "data": {
      "text/plain": [
       "{'one': 2, 'two': 3}"
      ]
     },
     "execution_count": 129,
     "metadata": {},
     "output_type": "execute_result"
    }
   ],
   "source": [
    "dict(one=2, two=3)"
   ]
  },
  {
   "cell_type": "code",
   "execution_count": null,
   "id": "209acb8b",
   "metadata": {},
   "outputs": [],
   "source": []
  },
  {
   "cell_type": "code",
   "execution_count": 130,
   "id": "029bac37",
   "metadata": {},
   "outputs": [
    {
     "data": {
      "text/plain": [
       "{'one': 2, 'two': 3}"
      ]
     },
     "execution_count": 130,
     "metadata": {},
     "output_type": "execute_result"
    }
   ],
   "source": [
    "dict([(['one', 'two'][i-2], i) for i in (2, 3)])"
   ]
  },
  {
   "cell_type": "code",
   "execution_count": 131,
   "id": "38060dec",
   "metadata": {},
   "outputs": [],
   "source": [
    "d = {'aa': 111, 'bb': 222}"
   ]
  },
  {
   "cell_type": "code",
   "execution_count": 133,
   "id": "e732371d",
   "metadata": {},
   "outputs": [
    {
     "name": "stdout",
     "output_type": "stream",
     "text": [
      "aa\n",
      "bb\n"
     ]
    }
   ],
   "source": [
    "for key in d.keys():\n",
    "    print(key)"
   ]
  },
  {
   "cell_type": "code",
   "execution_count": 139,
   "id": "a6fd9b97",
   "metadata": {},
   "outputs": [
    {
     "data": {
      "text/plain": [
       "111"
      ]
     },
     "execution_count": 139,
     "metadata": {},
     "output_type": "execute_result"
    }
   ],
   "source": [
    "d.get('aa')"
   ]
  },
  {
   "cell_type": "code",
   "execution_count": 142,
   "id": "89646e80",
   "metadata": {},
   "outputs": [
    {
     "data": {
      "text/plain": [
       "111"
      ]
     },
     "execution_count": 142,
     "metadata": {},
     "output_type": "execute_result"
    }
   ],
   "source": [
    "d['aa']"
   ]
  },
  {
   "cell_type": "code",
   "execution_count": 143,
   "id": "0d0f3e61",
   "metadata": {},
   "outputs": [
    {
     "data": {
      "text/plain": [
       "dict_values([111, 222])"
      ]
     },
     "execution_count": 143,
     "metadata": {},
     "output_type": "execute_result"
    }
   ],
   "source": [
    "d.values()"
   ]
  },
  {
   "cell_type": "code",
   "execution_count": 145,
   "id": "767ef970",
   "metadata": {},
   "outputs": [
    {
     "data": {
      "text/plain": [
       "dict_keys(['aa', 'bb'])"
      ]
     },
     "execution_count": 145,
     "metadata": {},
     "output_type": "execute_result"
    }
   ],
   "source": [
    "d.keys()"
   ]
  },
  {
   "cell_type": "code",
   "execution_count": null,
   "id": "786434bf",
   "metadata": {},
   "outputs": [],
   "source": [
    "f = open('mylog.txt', 'w')\n",
    "f.write('message #1\\n')\n",
    "f.write('message #2\\n')\n",
    "f.write('message #3\\n')\n",
    "f.close()"
   ]
  },
  {
   "cell_type": "code",
   "execution_count": null,
   "id": "b9216317",
   "metadata": {},
   "outputs": [],
   "source": [
    "infile = open('myfile.txt', 'r') # open for reading\n",
    "outfile = open('myfile.txt', 'w') # open for (over writing)\n",
    "log = open('myfile.txt', 'a') # open for\n",
    "appending to existing content"
   ]
  },
  {
   "cell_type": "code",
   "execution_count": 146,
   "id": "f7bbd28b",
   "metadata": {},
   "outputs": [
    {
     "name": "stdout",
     "output_type": "stream",
     "text": [
      "0 11\n",
      "1 22\n",
      "2 33\n"
     ]
    }
   ],
   "source": [
    "for n, value in enumerate([11,22,33]):\n",
    "    print(n, value)"
   ]
  },
  {
   "cell_type": "code",
   "execution_count": 150,
   "id": "ca21784f",
   "metadata": {},
   "outputs": [
    {
     "name": "stdout",
     "output_type": "stream",
     "text": [
      "[[[this silly error]]]\n"
     ]
    }
   ],
   "source": [
    "try:\n",
    "    raise RuntimeError('this silly error')\n",
    "except RuntimeError as exp:\n",
    "    print(\"[[[%s]]]\" % exp)"
   ]
  },
  {
   "cell_type": "code",
   "execution_count": 151,
   "id": "3a15c2d2",
   "metadata": {},
   "outputs": [
    {
     "name": "stdout",
     "output_type": "stream",
     "text": [
      "Error args: {{{a moderately bad error::::not toobad}}}\n"
     ]
    }
   ],
   "source": [
    "class NotsobadError(Exception):\n",
    "    \"\"\"An exception class.\n",
    "    \"\"\"\n",
    "    def get_args(self):\n",
    "        return '::::'.join(self.args)\n",
    "def test(x):\n",
    "    try:\n",
    "        if x == 0:\n",
    "            raise NotsobadError('a moderately bad error', 'not toobad')\n",
    "    except NotsobadError as e:\n",
    "        print('Error args: {{{%s}}}' % (e.get_args(), ))\n",
    "test(0)"
   ]
  },
  {
   "cell_type": "code",
   "execution_count": 152,
   "id": "0428c98e",
   "metadata": {},
   "outputs": [],
   "source": [
    "def test(size, *args, **kwargs):\n",
    "\n",
    "    print (size)\n",
    "\n",
    "    print (args)\n",
    "\n",
    "    print (kwargs)"
   ]
  },
  {
   "cell_type": "code",
   "execution_count": 157,
   "id": "849b459c",
   "metadata": {},
   "outputs": [
    {
     "name": "stdout",
     "output_type": "stream",
     "text": [
      "32\n",
      "('aa', 'bb')\n",
      "{'otherparam': 'xyz'}\n"
     ]
    }
   ],
   "source": [
    "test(32, 'aa', 'bb', otherparam='xyz')"
   ]
  },
  {
   "cell_type": "markdown",
   "id": "5639b45b",
   "metadata": {},
   "source": [
    "# Decorators for functions"
   ]
  },
  {
   "cell_type": "markdown",
   "id": "46b89d55",
   "metadata": {},
   "source": [
    "با بهره‌گیری از آن، یک بخش از برنامه تلاش می‌کند تا بخش دیگری از برنامه را در زمان اجرا ویرایش کند."
   ]
  },
  {
   "cell_type": "code",
   "execution_count": 160,
   "id": "9284c1a3",
   "metadata": {},
   "outputs": [
    {
     "name": "stdout",
     "output_type": "stream",
     "text": [
      "Hello\n",
      "Hello\n"
     ]
    }
   ],
   "source": [
    "def first(msg):\n",
    "    print(msg)    \n",
    "\n",
    "first(\"Hello\")\n",
    "\n",
    "second = first\n",
    "second(\"Hello\")"
   ]
  },
  {
   "cell_type": "markdown",
   "id": "5becb45e",
   "metadata": {},
   "source": [
    "# توابع مرتبه بالا"
   ]
  },
  {
   "cell_type": "code",
   "execution_count": 161,
   "id": "c6a14d78",
   "metadata": {},
   "outputs": [],
   "source": [
    "def inc(x):\n",
    "    return x + 1\n",
    "\n",
    "def dec(x):\n",
    "    return x - 1\n",
    "\n",
    "def operate(func, x):\n",
    "    result = func(x)\n",
    "    return result"
   ]
  },
  {
   "cell_type": "code",
   "execution_count": 163,
   "id": "2df46150",
   "metadata": {},
   "outputs": [
    {
     "data": {
      "text/plain": [
       "4"
      ]
     },
     "execution_count": 163,
     "metadata": {},
     "output_type": "execute_result"
    }
   ],
   "source": [
    "operate(inc,3)"
   ]
  },
  {
   "cell_type": "code",
   "execution_count": 164,
   "id": "2bdf7ce7",
   "metadata": {},
   "outputs": [
    {
     "data": {
      "text/plain": [
       "2"
      ]
     },
     "execution_count": 164,
     "metadata": {},
     "output_type": "execute_result"
    }
   ],
   "source": [
    "operate(dec,3)"
   ]
  },
  {
   "cell_type": "markdown",
   "id": "ea821087",
   "metadata": {},
   "source": [
    "# تابع تو در تو"
   ]
  },
  {
   "cell_type": "code",
   "execution_count": 165,
   "id": "1683fbd6",
   "metadata": {},
   "outputs": [
    {
     "name": "stdout",
     "output_type": "stream",
     "text": [
      "Hello\n"
     ]
    }
   ],
   "source": [
    "def is_called():\n",
    "    def is_returned():\n",
    "        print(\"Hello\")\n",
    "    return is_returned\n",
    "\n",
    "new = is_called()\n",
    "\n",
    "#Outputs \"Hello\"\n",
    "new()"
   ]
  },
  {
   "cell_type": "code",
   "execution_count": 166,
   "id": "70478635",
   "metadata": {},
   "outputs": [],
   "source": [
    "def make_pretty(func):\n",
    "    def inner():\n",
    "        print(\"I got decorated\")\n",
    "        func()\n",
    "    return inner\n",
    "\n",
    "def ordinary():\n",
    "    print(\"I am ordinary\")"
   ]
  },
  {
   "cell_type": "code",
   "execution_count": 167,
   "id": "e1dfe8bb",
   "metadata": {},
   "outputs": [
    {
     "name": "stdout",
     "output_type": "stream",
     "text": [
      "I am ordinary\n"
     ]
    }
   ],
   "source": [
    "ordinary()"
   ]
  },
  {
   "cell_type": "code",
   "execution_count": 168,
   "id": "5e320f11",
   "metadata": {},
   "outputs": [
    {
     "name": "stdout",
     "output_type": "stream",
     "text": [
      "I got decorated\n",
      "I am ordinary\n"
     ]
    }
   ],
   "source": [
    "pretty = make_pretty(ordinary)\n",
    "pretty()"
   ]
  },
  {
   "cell_type": "code",
   "execution_count": 169,
   "id": "5e17541d",
   "metadata": {},
   "outputs": [],
   "source": [
    "@make_pretty\n",
    "def ordinary():\n",
    "    print(\"I am ordinary\")"
   ]
  },
  {
   "cell_type": "code",
   "execution_count": 170,
   "id": "a8c62318",
   "metadata": {},
   "outputs": [
    {
     "name": "stdout",
     "output_type": "stream",
     "text": [
      "I got decorated\n",
      "I am ordinary\n"
     ]
    }
   ],
   "source": [
    "ordinary()"
   ]
  },
  {
   "cell_type": "code",
   "execution_count": 171,
   "id": "658c8a9f",
   "metadata": {},
   "outputs": [],
   "source": [
    "def smart_divide(func):\n",
    "    def inner(a,b):\n",
    "        print(\"I am going to divide\",a,\"and\",b)\n",
    "        if b == 0:\n",
    "            print(\"Whoops! cannot divide\")\n",
    "            return\n",
    "\n",
    "        return func(a,b)\n",
    "    return inner\n",
    "\n",
    "@smart_divide\n",
    "def divide(a,b):\n",
    "    return a/b"
   ]
  },
  {
   "cell_type": "code",
   "execution_count": 172,
   "id": "06ea3917",
   "metadata": {},
   "outputs": [
    {
     "name": "stdout",
     "output_type": "stream",
     "text": [
      "I am going to divide 5 and 0\n",
      "Whoops! cannot divide\n"
     ]
    }
   ],
   "source": [
    "divide(5, 0)"
   ]
  },
  {
   "cell_type": "code",
   "execution_count": 173,
   "id": "7945a0da",
   "metadata": {},
   "outputs": [
    {
     "name": "stdout",
     "output_type": "stream",
     "text": [
      "******************************\n",
      "%%%%%%%%%%%%%%%%%%%%%%%%%%%%%%\n",
      "Hello\n",
      "%%%%%%%%%%%%%%%%%%%%%%%%%%%%%%\n",
      "******************************\n"
     ]
    }
   ],
   "source": [
    "def star(func):\n",
    "    def inner(*args, **kwargs):\n",
    "        print(\"*\" * 30)\n",
    "        func(*args, **kwargs)\n",
    "        print(\"*\" * 30)\n",
    "    return inner\n",
    "\n",
    "def percent(func):\n",
    "    def inner(*args, **kwargs):\n",
    "        print(\"%\" * 30)\n",
    "        func(*args, **kwargs)\n",
    "        print(\"%\" * 30)\n",
    "    return inner\n",
    "\n",
    "@star\n",
    "@percent\n",
    "def printer(msg):\n",
    "    print(msg)\n",
    "printer(\"Hello\")"
   ]
  },
  {
   "cell_type": "markdown",
   "id": "24d8115a",
   "metadata": {},
   "source": [
    "# Iterators and generators"
   ]
  },
  {
   "cell_type": "markdown",
   "id": "88ae95a5",
   "metadata": {},
   "source": [
    "# yield"
   ]
  },
  {
   "cell_type": "code",
   "execution_count": null,
   "id": "3d4ce0e5",
   "metadata": {},
   "outputs": [],
   "source": []
  }
 ],
 "metadata": {
  "kernelspec": {
   "display_name": "Python 3",
   "language": "python",
   "name": "python3"
  },
  "language_info": {
   "codemirror_mode": {
    "name": "ipython",
    "version": 3
   },
   "file_extension": ".py",
   "mimetype": "text/x-python",
   "name": "python",
   "nbconvert_exporter": "python",
   "pygments_lexer": "ipython3",
   "version": "3.9.9"
  }
 },
 "nbformat": 4,
 "nbformat_minor": 5
}
