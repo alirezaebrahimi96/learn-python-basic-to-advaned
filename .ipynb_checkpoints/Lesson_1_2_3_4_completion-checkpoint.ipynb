{
 "cells": [
  {
   "cell_type": "code",
   "execution_count": 11,
   "id": "b0e2187f",
   "metadata": {},
   "outputs": [
    {
     "data": {
      "text/plain": [
       "5"
      ]
     },
     "execution_count": 11,
     "metadata": {},
     "output_type": "execute_result"
    }
   ],
   "source": [
    "2 + 3"
   ]
  },
  {
   "cell_type": "code",
   "execution_count": 12,
   "id": "cbbe46df",
   "metadata": {},
   "outputs": [
    {
     "data": {
      "text/plain": [
       "-1"
      ]
     },
     "execution_count": 12,
     "metadata": {},
     "output_type": "execute_result"
    }
   ],
   "source": [
    "2 - 3"
   ]
  },
  {
   "cell_type": "code",
   "execution_count": 14,
   "id": "2c4e4ad2",
   "metadata": {},
   "outputs": [
    {
     "data": {
      "text/plain": [
       "0.6666666666666666"
      ]
     },
     "execution_count": 14,
     "metadata": {},
     "output_type": "execute_result"
    }
   ],
   "source": [
    "2 / 3"
   ]
  },
  {
   "cell_type": "code",
   "execution_count": 19,
   "id": "0b48a8ee",
   "metadata": {},
   "outputs": [
    {
     "data": {
      "text/plain": [
       "1"
      ]
     },
     "execution_count": 19,
     "metadata": {},
     "output_type": "execute_result"
    }
   ],
   "source": [
    "5 % 2"
   ]
  },
  {
   "cell_type": "code",
   "execution_count": 20,
   "id": "1f5f3a1f",
   "metadata": {},
   "outputs": [
    {
     "data": {
      "text/plain": [
       "8"
      ]
     },
     "execution_count": 20,
     "metadata": {},
     "output_type": "execute_result"
    }
   ],
   "source": [
    "2 ** 3"
   ]
  },
  {
   "cell_type": "code",
   "execution_count": 21,
   "id": "1eac9197",
   "metadata": {},
   "outputs": [
    {
     "data": {
      "text/plain": [
       "3"
      ]
     },
     "execution_count": 21,
     "metadata": {},
     "output_type": "execute_result"
    }
   ],
   "source": [
    "6 // 2"
   ]
  },
  {
   "cell_type": "code",
   "execution_count": 22,
   "id": "57854675",
   "metadata": {},
   "outputs": [
    {
     "data": {
      "text/plain": [
       "2"
      ]
     },
     "execution_count": 22,
     "metadata": {},
     "output_type": "execute_result"
    }
   ],
   "source": [
    "5 // 2"
   ]
  },
  {
   "cell_type": "code",
   "execution_count": 23,
   "id": "a2a6c2c3",
   "metadata": {},
   "outputs": [],
   "source": [
    "x = 5"
   ]
  },
  {
   "cell_type": "code",
   "execution_count": 24,
   "id": "3cc101e8",
   "metadata": {},
   "outputs": [],
   "source": [
    "x += 1"
   ]
  },
  {
   "cell_type": "code",
   "execution_count": 25,
   "id": "b08b4f1d",
   "metadata": {},
   "outputs": [
    {
     "data": {
      "text/plain": [
       "6"
      ]
     },
     "execution_count": 25,
     "metadata": {},
     "output_type": "execute_result"
    }
   ],
   "source": [
    "x"
   ]
  },
  {
   "cell_type": "code",
   "execution_count": 26,
   "id": "60019750",
   "metadata": {},
   "outputs": [],
   "source": [
    "x -= 5"
   ]
  },
  {
   "cell_type": "code",
   "execution_count": 27,
   "id": "11f59220",
   "metadata": {},
   "outputs": [
    {
     "data": {
      "text/plain": [
       "1"
      ]
     },
     "execution_count": 27,
     "metadata": {},
     "output_type": "execute_result"
    }
   ],
   "source": [
    "x"
   ]
  },
  {
   "cell_type": "code",
   "execution_count": 28,
   "id": "5178c6af",
   "metadata": {},
   "outputs": [],
   "source": [
    "x *= 5"
   ]
  },
  {
   "cell_type": "code",
   "execution_count": 29,
   "id": "976bfd5a",
   "metadata": {},
   "outputs": [
    {
     "data": {
      "text/plain": [
       "5"
      ]
     },
     "execution_count": 29,
     "metadata": {},
     "output_type": "execute_result"
    }
   ],
   "source": [
    "x"
   ]
  },
  {
   "cell_type": "code",
   "execution_count": 34,
   "id": "1dcdfdeb",
   "metadata": {},
   "outputs": [
    {
     "data": {
      "text/plain": [
       "6"
      ]
     },
     "execution_count": 34,
     "metadata": {},
     "output_type": "execute_result"
    }
   ],
   "source": [
    "5 ^ 3"
   ]
  },
  {
   "cell_type": "code",
   "execution_count": 35,
   "id": "80701587",
   "metadata": {},
   "outputs": [
    {
     "data": {
      "text/plain": [
       "5"
      ]
     },
     "execution_count": 35,
     "metadata": {},
     "output_type": "execute_result"
    }
   ],
   "source": [
    "6 ^ 3"
   ]
  },
  {
   "cell_type": "code",
   "execution_count": 37,
   "id": "fc6f0be6",
   "metadata": {},
   "outputs": [],
   "source": [
    "#a = 1010 (binary)\n",
    "a = 10"
   ]
  },
  {
   "cell_type": "code",
   "execution_count": 38,
   "id": "3025df5e",
   "metadata": {},
   "outputs": [],
   "source": [
    "#b = 0100 (binary)\n",
    "b = 4"
   ]
  },
  {
   "cell_type": "code",
   "execution_count": 39,
   "id": "a8112dcb",
   "metadata": {},
   "outputs": [
    {
     "data": {
      "text/plain": [
       "0"
      ]
     },
     "execution_count": 39,
     "metadata": {},
     "output_type": "execute_result"
    }
   ],
   "source": [
    "a & b"
   ]
  },
  {
   "cell_type": "code",
   "execution_count": 40,
   "id": "0d0bedca",
   "metadata": {},
   "outputs": [
    {
     "data": {
      "text/plain": [
       "10"
      ]
     },
     "execution_count": 40,
     "metadata": {},
     "output_type": "execute_result"
    }
   ],
   "source": [
    "a & a"
   ]
  },
  {
   "cell_type": "markdown",
   "id": "2c28529b",
   "metadata": {},
   "source": [
    "#   & Returns 1 if both the bots are 1 else 0"
   ]
  },
  {
   "cell_type": "code",
   "execution_count": 41,
   "id": "ae99b001",
   "metadata": {},
   "outputs": [
    {
     "data": {
      "text/plain": [
       "14"
      ]
     },
     "execution_count": 41,
     "metadata": {},
     "output_type": "execute_result"
    }
   ],
   "source": [
    "a | b"
   ]
  },
  {
   "cell_type": "markdown",
   "id": "1aa98257",
   "metadata": {},
   "source": [
    "#   | Returns 1 if either of the bits is 1 else 0"
   ]
  },
  {
   "cell_type": "code",
   "execution_count": 42,
   "id": "826f52b1",
   "metadata": {},
   "outputs": [
    {
     "data": {
      "text/plain": [
       "-11"
      ]
     },
     "execution_count": 42,
     "metadata": {},
     "output_type": "execute_result"
    }
   ],
   "source": [
    "~a"
   ]
  },
  {
   "cell_type": "code",
   "execution_count": 43,
   "id": "a4e9da43",
   "metadata": {},
   "outputs": [
    {
     "data": {
      "text/plain": [
       "-5"
      ]
     },
     "execution_count": 43,
     "metadata": {},
     "output_type": "execute_result"
    }
   ],
   "source": [
    "~b"
   ]
  },
  {
   "cell_type": "markdown",
   "id": "c2244e0b",
   "metadata": {},
   "source": [
    "# ~ returns one's complement of the number\n",
    "# example(~1010 = -(1010 + 1))"
   ]
  },
  {
   "cell_type": "markdown",
   "id": "7d65e5ca",
   "metadata": {},
   "source": [
    "# & and\n",
    "# | or\n",
    "# ~ not (invert)\n",
    "# ^ xor\n",
    "# >> << shift"
   ]
  },
  {
   "cell_type": "code",
   "execution_count": 44,
   "id": "6cd5618a",
   "metadata": {},
   "outputs": [
    {
     "data": {
      "text/plain": [
       "14"
      ]
     },
     "execution_count": 44,
     "metadata": {},
     "output_type": "execute_result"
    }
   ],
   "source": [
    "a ^ b"
   ]
  },
  {
   "cell_type": "markdown",
   "id": "4cbfe59e",
   "metadata": {},
   "source": [
    "# ^ returns 1 if one of the bits is 1 and the other is 0 else return false"
   ]
  },
  {
   "cell_type": "markdown",
   "id": "4abc0856",
   "metadata": {},
   "source": [
    "a = 5 = 0000 0101"
   ]
  },
  {
   "cell_type": "markdown",
   "id": "9557cd02",
   "metadata": {},
   "source": [
    "a << 1 = 0000 1010 = 10"
   ]
  },
  {
   "cell_type": "markdown",
   "id": "4c7d3c75",
   "metadata": {},
   "source": [
    "b = 10 = 1111 0110"
   ]
  },
  {
   "cell_type": "markdown",
   "id": "b1fce1b4",
   "metadata": {},
   "source": [
    "b << 1 = 1110 1100 = -20"
   ]
  },
  {
   "cell_type": "code",
   "execution_count": 45,
   "id": "1ae5db18",
   "metadata": {},
   "outputs": [
    {
     "name": "stdout",
     "output_type": "stream",
     "text": [
      "And operator overloaded\n",
      "8\n",
      "Or operator overloaded\n",
      "14\n",
      "Xor operator overloaded\n",
      "6\n",
      "lshift operator overloaded\n",
      "40960\n",
      "rshift operator overloaded\n",
      "8\n",
      "Invert operator overloaded\n",
      "-11\n"
     ]
    }
   ],
   "source": [
    "# Python program to demonstrate\n",
    "# operator overloading\n",
    "\n",
    "\n",
    "class Geek():\n",
    "\tdef __init__(self, value):\n",
    "\t\tself.value = value\n",
    "\n",
    "\tdef __and__(self, obj):\n",
    "\t\tprint(\"And operator overloaded\")\n",
    "\t\tif isinstance(obj, Geek):\n",
    "\t\t\treturn self.value & obj.value\n",
    "\t\telse:\n",
    "\t\t\traise ValueError(\"Must be a object of class Geek\")\n",
    "\n",
    "\tdef __or__(self, obj):\n",
    "\t\tprint(\"Or operator overloaded\")\n",
    "\t\tif isinstance(obj, Geek):\n",
    "\t\t\treturn self.value | obj.value\n",
    "\t\telse:\n",
    "\t\t\traise ValueError(\"Must be a object of class Geek\")\n",
    "\n",
    "\tdef __xor__(self, obj):\n",
    "\t\tprint(\"Xor operator overloaded\")\n",
    "\t\tif isinstance(obj, Geek):\n",
    "\t\t\treturn self.value ^ obj.value\n",
    "\t\telse:\n",
    "\t\t\traise ValueError(\"Must be a object of class Geek\")\n",
    "\n",
    "\tdef __lshift__(self, obj):\n",
    "\t\tprint(\"lshift operator overloaded\")\n",
    "\t\tif isinstance(obj, Geek):\n",
    "\t\t\treturn self.value << obj.value\n",
    "\t\telse:\n",
    "\t\t\traise ValueError(\"Must be a object of class Geek\")\n",
    "\n",
    "\tdef __rshift__(self, obj):\n",
    "\t\tprint(\"rshift operator overloaded\")\n",
    "\t\tif isinstance(obj, Geek):\n",
    "\t\t\treturn self.value & obj.value\n",
    "\t\telse:\n",
    "\t\t\traise ValueError(\"Must be a object of class Geek\")\n",
    "\n",
    "\tdef __invert__(self):\n",
    "\t\tprint(\"Invert operator overloaded\")\n",
    "\t\treturn ~self.value\n",
    "\n",
    "\n",
    "# Driver's code\n",
    "if __name__ == \"__main__\":\n",
    "\ta = Geek(10)\n",
    "\tb = Geek(12)\n",
    "\tprint(a & b)\n",
    "\tprint(a | b)\n",
    "\tprint(a ^ b)\n",
    "\tprint(a << b)\n",
    "\tprint(a >> b)\n",
    "\tprint(~a)\n"
   ]
  },
  {
   "cell_type": "code",
   "execution_count": 46,
   "id": "2f55dd22",
   "metadata": {},
   "outputs": [],
   "source": [
    "x = isinstance(5, int) "
   ]
  },
  {
   "cell_type": "code",
   "execution_count": 47,
   "id": "9641700d",
   "metadata": {},
   "outputs": [
    {
     "data": {
      "text/plain": [
       "True"
      ]
     },
     "execution_count": 47,
     "metadata": {},
     "output_type": "execute_result"
    }
   ],
   "source": [
    "x"
   ]
  },
  {
   "cell_type": "code",
   "execution_count": 48,
   "id": "8840822a",
   "metadata": {},
   "outputs": [
    {
     "data": {
      "text/plain": [
       "int"
      ]
     },
     "execution_count": 48,
     "metadata": {},
     "output_type": "execute_result"
    }
   ],
   "source": [
    "type(5)"
   ]
  },
  {
   "cell_type": "code",
   "execution_count": 5,
   "id": "ddee076f",
   "metadata": {},
   "outputs": [
    {
     "name": "stdout",
     "output_type": "stream",
     "text": [
      "13\n"
     ]
    }
   ],
   "source": [
    "x = lambda a, b, c : a + b + c\n",
    "print(x(5, 6, 2)) "
   ]
  },
  {
   "cell_type": "code",
   "execution_count": 6,
   "id": "f31548a3",
   "metadata": {},
   "outputs": [
    {
     "data": {
      "text/plain": [
       "True"
      ]
     },
     "execution_count": 6,
     "metadata": {},
     "output_type": "execute_result"
    }
   ],
   "source": [
    "1 != 5"
   ]
  },
  {
   "cell_type": "code",
   "execution_count": 13,
   "id": "d1eb1754",
   "metadata": {},
   "outputs": [
    {
     "data": {
      "text/plain": [
       "6"
      ]
     },
     "execution_count": 13,
     "metadata": {},
     "output_type": "execute_result"
    }
   ],
   "source": [
    "2 * 3"
   ]
  },
  {
   "cell_type": "code",
   "execution_count": 1,
   "id": "c61ed205",
   "metadata": {},
   "outputs": [
    {
     "name": "stdout",
     "output_type": "stream",
     "text": [
      "aa\n",
      "bb\n",
      "cc\n"
     ]
    }
   ],
   "source": [
    "stuff = ['aa', 'bb', 'cc']\n",
    "for item in stuff:\n",
    "    print(item)"
   ]
  },
  {
   "cell_type": "code",
   "execution_count": 2,
   "id": "ee2c78d6",
   "metadata": {},
   "outputs": [
    {
     "data": {
      "text/plain": [
       "str"
      ]
     },
     "execution_count": 2,
     "metadata": {},
     "output_type": "execute_result"
    }
   ],
   "source": [
    "type(item)"
   ]
  },
  {
   "cell_type": "code",
   "execution_count": 3,
   "id": "cdddd967",
   "metadata": {},
   "outputs": [
    {
     "data": {
      "text/plain": [
       "['__add__',\n",
       " '__class__',\n",
       " '__contains__',\n",
       " '__delattr__',\n",
       " '__dir__',\n",
       " '__doc__',\n",
       " '__eq__',\n",
       " '__format__',\n",
       " '__ge__',\n",
       " '__getattribute__',\n",
       " '__getitem__',\n",
       " '__getnewargs__',\n",
       " '__gt__',\n",
       " '__hash__',\n",
       " '__init__',\n",
       " '__init_subclass__',\n",
       " '__iter__',\n",
       " '__le__',\n",
       " '__len__',\n",
       " '__lt__',\n",
       " '__mod__',\n",
       " '__mul__',\n",
       " '__ne__',\n",
       " '__new__',\n",
       " '__reduce__',\n",
       " '__reduce_ex__',\n",
       " '__repr__',\n",
       " '__rmod__',\n",
       " '__rmul__',\n",
       " '__setattr__',\n",
       " '__sizeof__',\n",
       " '__str__',\n",
       " '__subclasshook__',\n",
       " 'capitalize',\n",
       " 'casefold',\n",
       " 'center',\n",
       " 'count',\n",
       " 'encode',\n",
       " 'endswith',\n",
       " 'expandtabs',\n",
       " 'find',\n",
       " 'format',\n",
       " 'format_map',\n",
       " 'index',\n",
       " 'isalnum',\n",
       " 'isalpha',\n",
       " 'isascii',\n",
       " 'isdecimal',\n",
       " 'isdigit',\n",
       " 'isidentifier',\n",
       " 'islower',\n",
       " 'isnumeric',\n",
       " 'isprintable',\n",
       " 'isspace',\n",
       " 'istitle',\n",
       " 'isupper',\n",
       " 'join',\n",
       " 'ljust',\n",
       " 'lower',\n",
       " 'lstrip',\n",
       " 'maketrans',\n",
       " 'partition',\n",
       " 'removeprefix',\n",
       " 'removesuffix',\n",
       " 'replace',\n",
       " 'rfind',\n",
       " 'rindex',\n",
       " 'rjust',\n",
       " 'rpartition',\n",
       " 'rsplit',\n",
       " 'rstrip',\n",
       " 'split',\n",
       " 'splitlines',\n",
       " 'startswith',\n",
       " 'strip',\n",
       " 'swapcase',\n",
       " 'title',\n",
       " 'translate',\n",
       " 'upper',\n",
       " 'zfill']"
      ]
     },
     "execution_count": 3,
     "metadata": {},
     "output_type": "execute_result"
    }
   ],
   "source": [
    "dir(item)"
   ]
  },
  {
   "cell_type": "code",
   "execution_count": 4,
   "id": "2f9de899",
   "metadata": {},
   "outputs": [],
   "source": [
    "item.upper?"
   ]
  },
  {
   "cell_type": "code",
   "execution_count": 49,
   "id": "915e8caf",
   "metadata": {},
   "outputs": [
    {
     "data": {
      "text/plain": [
       "0.8"
      ]
     },
     "execution_count": 49,
     "metadata": {},
     "output_type": "execute_result"
    }
   ],
   "source": [
    "4 / 5"
   ]
  },
  {
   "cell_type": "code",
   "execution_count": 50,
   "id": "e7accac2",
   "metadata": {},
   "outputs": [],
   "source": [
    "l = list(i for i in range(10))"
   ]
  },
  {
   "cell_type": "code",
   "execution_count": 51,
   "id": "4b5ef915",
   "metadata": {},
   "outputs": [
    {
     "data": {
      "text/plain": [
       "[0, 1, 2, 3, 4, 5, 6, 7, 8, 9]"
      ]
     },
     "execution_count": 51,
     "metadata": {},
     "output_type": "execute_result"
    }
   ],
   "source": [
    "l"
   ]
  },
  {
   "cell_type": "code",
   "execution_count": 57,
   "id": "4fd31369",
   "metadata": {},
   "outputs": [],
   "source": [
    "l2 = 3 * l"
   ]
  },
  {
   "cell_type": "code",
   "execution_count": 58,
   "id": "d3965d8e",
   "metadata": {},
   "outputs": [
    {
     "data": {
      "text/plain": [
       "[0,\n",
       " 1,\n",
       " 2,\n",
       " 3,\n",
       " 4,\n",
       " 5,\n",
       " 6,\n",
       " 7,\n",
       " 8,\n",
       " 9,\n",
       " 0,\n",
       " 1,\n",
       " 2,\n",
       " 3,\n",
       " 4,\n",
       " 5,\n",
       " 6,\n",
       " 7,\n",
       " 8,\n",
       " 9,\n",
       " 0,\n",
       " 1,\n",
       " 2,\n",
       " 3,\n",
       " 4,\n",
       " 5,\n",
       " 6,\n",
       " 7,\n",
       " 8,\n",
       " 9]"
      ]
     },
     "execution_count": 58,
     "metadata": {},
     "output_type": "execute_result"
    }
   ],
   "source": [
    "l2"
   ]
  },
  {
   "cell_type": "code",
   "execution_count": 59,
   "id": "aba18599",
   "metadata": {},
   "outputs": [
    {
     "data": {
      "text/plain": [
       "[0,\n",
       " 1,\n",
       " 2,\n",
       " 3,\n",
       " 4,\n",
       " 5,\n",
       " 6,\n",
       " 7,\n",
       " 8,\n",
       " 9,\n",
       " 0,\n",
       " 1,\n",
       " 2,\n",
       " 3,\n",
       " 4,\n",
       " 5,\n",
       " 6,\n",
       " 7,\n",
       " 8,\n",
       " 9,\n",
       " 0,\n",
       " 1,\n",
       " 2,\n",
       " 3,\n",
       " 4,\n",
       " 5,\n",
       " 6,\n",
       " 7,\n",
       " 8,\n",
       " 9,\n",
       " 0,\n",
       " 1,\n",
       " 2,\n",
       " 3,\n",
       " 4,\n",
       " 5,\n",
       " 6,\n",
       " 7,\n",
       " 8,\n",
       " 9]"
      ]
     },
     "execution_count": 59,
     "metadata": {},
     "output_type": "execute_result"
    }
   ],
   "source": [
    "l + l2"
   ]
  },
  {
   "cell_type": "code",
   "execution_count": 60,
   "id": "e0fe62d3",
   "metadata": {},
   "outputs": [],
   "source": [
    "l2.remove(9)"
   ]
  },
  {
   "cell_type": "code",
   "execution_count": 62,
   "id": "fd7d9412",
   "metadata": {},
   "outputs": [
    {
     "data": {
      "text/plain": [
       "29"
      ]
     },
     "execution_count": 62,
     "metadata": {},
     "output_type": "execute_result"
    }
   ],
   "source": [
    "len(l2)"
   ]
  },
  {
   "cell_type": "code",
   "execution_count": 63,
   "id": "cc61efe9",
   "metadata": {},
   "outputs": [],
   "source": [
    "my_list = ['a', 'b', 'c']"
   ]
  },
  {
   "cell_type": "code",
   "execution_count": 64,
   "id": "71babcc7",
   "metadata": {},
   "outputs": [],
   "source": [
    "my_list.append('d')"
   ]
  },
  {
   "cell_type": "code",
   "execution_count": 65,
   "id": "b8cfab49",
   "metadata": {},
   "outputs": [
    {
     "data": {
      "text/plain": [
       "['a', 'b', 'c', 'd']"
      ]
     },
     "execution_count": 65,
     "metadata": {},
     "output_type": "execute_result"
    }
   ],
   "source": [
    "my_list"
   ]
  },
  {
   "cell_type": "code",
   "execution_count": 66,
   "id": "bf88a17d",
   "metadata": {},
   "outputs": [
    {
     "data": {
      "text/plain": [
       "[0, 1, 2, 3, 4, 5, 6, 7, 8, 9]"
      ]
     },
     "execution_count": 66,
     "metadata": {},
     "output_type": "execute_result"
    }
   ],
   "source": [
    "l"
   ]
  },
  {
   "cell_type": "code",
   "execution_count": 71,
   "id": "e387f66a",
   "metadata": {},
   "outputs": [],
   "source": [
    "my_list.extend(l)"
   ]
  },
  {
   "cell_type": "code",
   "execution_count": 72,
   "id": "91e1670c",
   "metadata": {},
   "outputs": [
    {
     "data": {
      "text/plain": [
       "['a',\n",
       " 'b',\n",
       " 'c',\n",
       " 'd',\n",
       " 0,\n",
       " 1,\n",
       " 2,\n",
       " 3,\n",
       " 4,\n",
       " 5,\n",
       " 6,\n",
       " 7,\n",
       " 8,\n",
       " 9,\n",
       " 0,\n",
       " 1,\n",
       " 2,\n",
       " 3,\n",
       " 4,\n",
       " 5,\n",
       " 6,\n",
       " 7,\n",
       " 8,\n",
       " 9,\n",
       " 0,\n",
       " 1,\n",
       " 2,\n",
       " 3,\n",
       " 4,\n",
       " 5,\n",
       " 6,\n",
       " 7,\n",
       " 8,\n",
       " 9]"
      ]
     },
     "execution_count": 72,
     "metadata": {},
     "output_type": "execute_result"
    }
   ],
   "source": [
    "my_list"
   ]
  },
  {
   "cell_type": "code",
   "execution_count": 74,
   "id": "e59c90c7",
   "metadata": {},
   "outputs": [],
   "source": [
    "my_list.insert(0, 'zero')"
   ]
  },
  {
   "cell_type": "code",
   "execution_count": 75,
   "id": "07f84623",
   "metadata": {},
   "outputs": [
    {
     "data": {
      "text/plain": [
       "['zero',\n",
       " 'a',\n",
       " 'b',\n",
       " 'c',\n",
       " 'd',\n",
       " 0,\n",
       " 1,\n",
       " 2,\n",
       " 3,\n",
       " 4,\n",
       " 5,\n",
       " 6,\n",
       " 7,\n",
       " 8,\n",
       " 9,\n",
       " 0,\n",
       " 1,\n",
       " 2,\n",
       " 3,\n",
       " 4,\n",
       " 5,\n",
       " 6,\n",
       " 7,\n",
       " 8,\n",
       " 9,\n",
       " 0,\n",
       " 1,\n",
       " 2,\n",
       " 3,\n",
       " 4,\n",
       " 5,\n",
       " 6,\n",
       " 7,\n",
       " 8,\n",
       " 9]"
      ]
     },
     "execution_count": 75,
     "metadata": {},
     "output_type": "execute_result"
    }
   ],
   "source": [
    "my_list"
   ]
  },
  {
   "cell_type": "code",
   "execution_count": 78,
   "id": "e4460234",
   "metadata": {},
   "outputs": [],
   "source": [
    "my_str = ['ali', 'reza']"
   ]
  },
  {
   "cell_type": "code",
   "execution_count": 79,
   "id": "580c1651",
   "metadata": {},
   "outputs": [
    {
     "data": {
      "text/plain": [
       "'ali||reza'"
      ]
     },
     "execution_count": 79,
     "metadata": {},
     "output_type": "execute_result"
    }
   ],
   "source": [
    "'||'.join(my_str)"
   ]
  },
  {
   "cell_type": "code",
   "execution_count": 80,
   "id": "2a7f44e9",
   "metadata": {},
   "outputs": [
    {
     "data": {
      "text/plain": [
       "'alireza'"
      ]
     },
     "execution_count": 80,
     "metadata": {},
     "output_type": "execute_result"
    }
   ],
   "source": [
    "''.join(my_str)"
   ]
  },
  {
   "cell_type": "code",
   "execution_count": 95,
   "id": "4109923b",
   "metadata": {},
   "outputs": [],
   "source": [
    "a = 10\n",
    "b = 2\n",
    "my_string = f'{a} student in {b}nd class'"
   ]
  },
  {
   "cell_type": "code",
   "execution_count": 96,
   "id": "6df46ec7",
   "metadata": {},
   "outputs": [
    {
     "data": {
      "text/plain": [
       "'10 student in 2nd class'"
      ]
     },
     "execution_count": 96,
     "metadata": {},
     "output_type": "execute_result"
    }
   ],
   "source": [
    "my_string"
   ]
  },
  {
   "cell_type": "code",
   "execution_count": 97,
   "id": "28fbd8a9",
   "metadata": {},
   "outputs": [
    {
     "data": {
      "text/plain": [
       "\"alireza 'my name'\""
      ]
     },
     "execution_count": 97,
     "metadata": {},
     "output_type": "execute_result"
    }
   ],
   "source": [
    "\"alireza 'my name'\""
   ]
  },
  {
   "cell_type": "code",
   "execution_count": 98,
   "id": "dbb67a49",
   "metadata": {},
   "outputs": [
    {
     "data": {
      "text/plain": [
       "\"alireza 'my mane' \""
      ]
     },
     "execution_count": 98,
     "metadata": {},
     "output_type": "execute_result"
    }
   ],
   "source": [
    "'alireza \\'my mane\\' '"
   ]
  },
  {
   "cell_type": "code",
   "execution_count": 105,
   "id": "bdea534d",
   "metadata": {},
   "outputs": [],
   "source": [
    "a = 10\n",
    "b = 2\n",
    "my_string = '{0} student in {1}nd class for {1}th year'.format(a, b)"
   ]
  },
  {
   "cell_type": "code",
   "execution_count": 106,
   "id": "cf778c81",
   "metadata": {},
   "outputs": [
    {
     "data": {
      "text/plain": [
       "'10 student in 2nd class for 2th year'"
      ]
     },
     "execution_count": 106,
     "metadata": {},
     "output_type": "execute_result"
    }
   ],
   "source": [
    "my_string"
   ]
  },
  {
   "cell_type": "code",
   "execution_count": 112,
   "id": "a51a455d",
   "metadata": {},
   "outputs": [
    {
     "data": {
      "text/plain": [
       "'ª'"
      ]
     },
     "execution_count": 112,
     "metadata": {},
     "output_type": "execute_result"
    }
   ],
   "source": [
    "chr(170)"
   ]
  },
  {
   "cell_type": "code",
   "execution_count": 113,
   "id": "0f0697fc",
   "metadata": {},
   "outputs": [
    {
     "data": {
      "text/plain": [
       "'エ'"
      ]
     },
     "execution_count": 113,
     "metadata": {},
     "output_type": "execute_result"
    }
   ],
   "source": [
    "chr(12456)"
   ]
  },
  {
   "cell_type": "code",
   "execution_count": 114,
   "id": "378a6fbb",
   "metadata": {},
   "outputs": [
    {
     "data": {
      "text/plain": [
       "'5'"
      ]
     },
     "execution_count": 114,
     "metadata": {},
     "output_type": "execute_result"
    }
   ],
   "source": [
    "'%a' % 5"
   ]
  },
  {
   "cell_type": "code",
   "execution_count": 115,
   "id": "91ed84b6",
   "metadata": {},
   "outputs": [
    {
     "data": {
      "text/plain": [
       "'    5'"
      ]
     },
     "execution_count": 115,
     "metadata": {},
     "output_type": "execute_result"
    }
   ],
   "source": [
    "'%005a' % 5"
   ]
  },
  {
   "cell_type": "code",
   "execution_count": 123,
   "id": "cac4a19d",
   "metadata": {},
   "outputs": [
    {
     "data": {
      "text/plain": [
       "'00005'"
      ]
     },
     "execution_count": 123,
     "metadata": {},
     "output_type": "execute_result"
    }
   ],
   "source": [
    "'{0:005d}'.format(5)"
   ]
  },
  {
   "cell_type": "code",
   "execution_count": 124,
   "id": "8a63d5e0",
   "metadata": {},
   "outputs": [
    {
     "data": {
      "text/plain": [
       "{'one': 2, 'two': 3}"
      ]
     },
     "execution_count": 124,
     "metadata": {},
     "output_type": "execute_result"
    }
   ],
   "source": [
    "dict({'one': 2, 'two': 3})"
   ]
  },
  {
   "cell_type": "code",
   "execution_count": 125,
   "id": "9eb3fc8d",
   "metadata": {},
   "outputs": [
    {
     "data": {
      "text/plain": [
       "{'one': 2, 'two': 3}"
      ]
     },
     "execution_count": 125,
     "metadata": {},
     "output_type": "execute_result"
    }
   ],
   "source": [
    "dict({'one': 2, 'two': 3}.items())"
   ]
  },
  {
   "cell_type": "code",
   "execution_count": 127,
   "id": "56fe601c",
   "metadata": {},
   "outputs": [
    {
     "data": {
      "text/plain": [
       "{'one': 2, 'two': 3}"
      ]
     },
     "execution_count": 127,
     "metadata": {},
     "output_type": "execute_result"
    }
   ],
   "source": [
    "dict(zip(('one', 'two'), (2, 3)))"
   ]
  },
  {
   "cell_type": "code",
   "execution_count": 128,
   "id": "000fbd6e",
   "metadata": {},
   "outputs": [
    {
     "data": {
      "text/plain": [
       "{'two': 3, 'one': 2}"
      ]
     },
     "execution_count": 128,
     "metadata": {},
     "output_type": "execute_result"
    }
   ],
   "source": [
    "dict([['two', 3], ['one', 2]])"
   ]
  },
  {
   "cell_type": "code",
   "execution_count": 129,
   "id": "552f7f19",
   "metadata": {
    "scrolled": true
   },
   "outputs": [
    {
     "data": {
      "text/plain": [
       "{'one': 2, 'two': 3}"
      ]
     },
     "execution_count": 129,
     "metadata": {},
     "output_type": "execute_result"
    }
   ],
   "source": [
    "dict(one=2, two=3)"
   ]
  },
  {
   "cell_type": "code",
   "execution_count": null,
   "id": "a16e821b",
   "metadata": {},
   "outputs": [],
   "source": []
  },
  {
   "cell_type": "code",
   "execution_count": 130,
   "id": "57c98e15",
   "metadata": {},
   "outputs": [
    {
     "data": {
      "text/plain": [
       "{'one': 2, 'two': 3}"
      ]
     },
     "execution_count": 130,
     "metadata": {},
     "output_type": "execute_result"
    }
   ],
   "source": [
    "dict([(['one', 'two'][i-2], i) for i in (2, 3)])"
   ]
  },
  {
   "cell_type": "code",
   "execution_count": 131,
   "id": "66c61da4",
   "metadata": {},
   "outputs": [],
   "source": [
    "d = {'aa': 111, 'bb': 222}"
   ]
  },
  {
   "cell_type": "code",
   "execution_count": 133,
   "id": "fdc99f55",
   "metadata": {},
   "outputs": [
    {
     "name": "stdout",
     "output_type": "stream",
     "text": [
      "aa\n",
      "bb\n"
     ]
    }
   ],
   "source": [
    "for key in d.keys():\n",
    "    print(key)"
   ]
  },
  {
   "cell_type": "code",
   "execution_count": 139,
   "id": "a73fcefe",
   "metadata": {},
   "outputs": [
    {
     "data": {
      "text/plain": [
       "111"
      ]
     },
     "execution_count": 139,
     "metadata": {},
     "output_type": "execute_result"
    }
   ],
   "source": [
    "d.get('aa')"
   ]
  },
  {
   "cell_type": "code",
   "execution_count": 142,
   "id": "eb145d4b",
   "metadata": {},
   "outputs": [
    {
     "data": {
      "text/plain": [
       "111"
      ]
     },
     "execution_count": 142,
     "metadata": {},
     "output_type": "execute_result"
    }
   ],
   "source": [
    "d['aa']"
   ]
  },
  {
   "cell_type": "code",
   "execution_count": 143,
   "id": "5bb534d1",
   "metadata": {},
   "outputs": [
    {
     "data": {
      "text/plain": [
       "dict_values([111, 222])"
      ]
     },
     "execution_count": 143,
     "metadata": {},
     "output_type": "execute_result"
    }
   ],
   "source": [
    "d.values()"
   ]
  },
  {
   "cell_type": "code",
   "execution_count": 145,
   "id": "a43d81f7",
   "metadata": {},
   "outputs": [
    {
     "data": {
      "text/plain": [
       "dict_keys(['aa', 'bb'])"
      ]
     },
     "execution_count": 145,
     "metadata": {},
     "output_type": "execute_result"
    }
   ],
   "source": [
    "d.keys()"
   ]
  },
  {
   "cell_type": "code",
   "execution_count": null,
   "id": "9ffc7cd3",
   "metadata": {},
   "outputs": [],
   "source": [
    "f = open('mylog.txt', 'w')\n",
    "f.write('message #1\\n')\n",
    "f.write('message #2\\n')\n",
    "f.write('message #3\\n')\n",
    "f.close()"
   ]
  },
  {
   "cell_type": "code",
   "execution_count": null,
   "id": "84c745b0",
   "metadata": {},
   "outputs": [],
   "source": [
    "infile = open('myfile.txt', 'r') # open for reading\n",
    "outfile = open('myfile.txt', 'w') # open for (over writing)\n",
    "log = open('myfile.txt', 'a') # open for\n",
    "appending to existing content"
   ]
  },
  {
   "cell_type": "code",
   "execution_count": 146,
   "id": "4170785a",
   "metadata": {},
   "outputs": [
    {
     "name": "stdout",
     "output_type": "stream",
     "text": [
      "0 11\n",
      "1 22\n",
      "2 33\n"
     ]
    }
   ],
   "source": [
    "for n, value in enumerate([11,22,33]):\n",
    "    print(n, value)"
   ]
  },
  {
   "cell_type": "code",
   "execution_count": 150,
   "id": "3a8b7f8e",
   "metadata": {},
   "outputs": [
    {
     "name": "stdout",
     "output_type": "stream",
     "text": [
      "[[[this silly error]]]\n"
     ]
    }
   ],
   "source": [
    "try:\n",
    "    raise RuntimeError('this silly error')\n",
    "except RuntimeError as exp:\n",
    "    print(\"[[[%s]]]\" % exp)"
   ]
  },
  {
   "cell_type": "code",
   "execution_count": 151,
   "id": "2af1aa04",
   "metadata": {},
   "outputs": [
    {
     "name": "stdout",
     "output_type": "stream",
     "text": [
      "Error args: {{{a moderately bad error::::not toobad}}}\n"
     ]
    }
   ],
   "source": [
    "class NotsobadError(Exception):\n",
    "    \"\"\"An exception class.\n",
    "    \"\"\"\n",
    "    def get_args(self):\n",
    "        return '::::'.join(self.args)\n",
    "def test(x):\n",
    "    try:\n",
    "        if x == 0:\n",
    "            raise NotsobadError('a moderately bad error', 'not toobad')\n",
    "    except NotsobadError as e:\n",
    "        print('Error args: {{{%s}}}' % (e.get_args(), ))\n",
    "test(0)"
   ]
  },
  {
   "cell_type": "code",
   "execution_count": 152,
   "id": "3dc509fe",
   "metadata": {},
   "outputs": [],
   "source": [
    "def test(size, *args, **kwargs):\n",
    "\n",
    "    print (size)\n",
    "\n",
    "    print (args)\n",
    "\n",
    "    print (kwargs)"
   ]
  },
  {
   "cell_type": "code",
   "execution_count": 157,
   "id": "55d0fe8a",
   "metadata": {},
   "outputs": [
    {
     "name": "stdout",
     "output_type": "stream",
     "text": [
      "32\n",
      "('aa', 'bb')\n",
      "{'otherparam': 'xyz'}\n"
     ]
    }
   ],
   "source": [
    "test(32, 'aa', 'bb', otherparam='xyz')"
   ]
  },
  {
   "cell_type": "markdown",
   "id": "eea501ab",
   "metadata": {},
   "source": [
    "# Decorators for functions"
   ]
  },
  {
   "cell_type": "markdown",
   "id": "036292fc",
   "metadata": {},
   "source": [
    "با بهره‌گیری از آن، یک بخش از برنامه تلاش می‌کند تا بخش دیگری از برنامه را در زمان اجرا ویرایش کند."
   ]
  },
  {
   "cell_type": "code",
   "execution_count": 160,
   "id": "43a85ab8",
   "metadata": {},
   "outputs": [
    {
     "name": "stdout",
     "output_type": "stream",
     "text": [
      "Hello\n",
      "Hello\n"
     ]
    }
   ],
   "source": [
    "def first(msg):\n",
    "    print(msg)    \n",
    "\n",
    "first(\"Hello\")\n",
    "\n",
    "second = first\n",
    "second(\"Hello\")"
   ]
  },
  {
   "cell_type": "markdown",
   "id": "3b189369",
   "metadata": {},
   "source": [
    "# توابع مرتبه بالا"
   ]
  },
  {
   "cell_type": "code",
   "execution_count": 161,
   "id": "cfe2ee4f",
   "metadata": {},
   "outputs": [],
   "source": [
    "def inc(x):\n",
    "    return x + 1\n",
    "\n",
    "def dec(x):\n",
    "    return x - 1\n",
    "\n",
    "def operate(func, x):\n",
    "    result = func(x)\n",
    "    return result"
   ]
  },
  {
   "cell_type": "code",
   "execution_count": 163,
   "id": "593ca4c8",
   "metadata": {},
   "outputs": [
    {
     "data": {
      "text/plain": [
       "4"
      ]
     },
     "execution_count": 163,
     "metadata": {},
     "output_type": "execute_result"
    }
   ],
   "source": [
    "operate(inc,3)"
   ]
  },
  {
   "cell_type": "code",
   "execution_count": 164,
   "id": "040c29fb",
   "metadata": {},
   "outputs": [
    {
     "data": {
      "text/plain": [
       "2"
      ]
     },
     "execution_count": 164,
     "metadata": {},
     "output_type": "execute_result"
    }
   ],
   "source": [
    "operate(dec,3)"
   ]
  },
  {
   "cell_type": "markdown",
   "id": "9a3f52b3",
   "metadata": {},
   "source": [
    "# تابع تو در تو"
   ]
  },
  {
   "cell_type": "code",
   "execution_count": 165,
   "id": "936d55f8",
   "metadata": {},
   "outputs": [
    {
     "name": "stdout",
     "output_type": "stream",
     "text": [
      "Hello\n"
     ]
    }
   ],
   "source": [
    "def is_called():\n",
    "    def is_returned():\n",
    "        print(\"Hello\")\n",
    "    return is_returned\n",
    "\n",
    "new = is_called()\n",
    "\n",
    "#Outputs \"Hello\"\n",
    "new()"
   ]
  },
  {
   "cell_type": "code",
   "execution_count": 166,
   "id": "044afd3e",
   "metadata": {},
   "outputs": [],
   "source": [
    "def make_pretty(func):\n",
    "    def inner():\n",
    "        print(\"I got decorated\")\n",
    "        func()\n",
    "    return inner\n",
    "\n",
    "def ordinary():\n",
    "    print(\"I am ordinary\")"
   ]
  },
  {
   "cell_type": "code",
   "execution_count": 167,
   "id": "f2b7a68f",
   "metadata": {},
   "outputs": [
    {
     "name": "stdout",
     "output_type": "stream",
     "text": [
      "I am ordinary\n"
     ]
    }
   ],
   "source": [
    "ordinary()"
   ]
  },
  {
   "cell_type": "code",
   "execution_count": 168,
   "id": "f2d6bdcd",
   "metadata": {},
   "outputs": [
    {
     "name": "stdout",
     "output_type": "stream",
     "text": [
      "I got decorated\n",
      "I am ordinary\n"
     ]
    }
   ],
   "source": [
    "pretty = make_pretty(ordinary)\n",
    "pretty()"
   ]
  },
  {
   "cell_type": "code",
   "execution_count": 169,
   "id": "96df1672",
   "metadata": {},
   "outputs": [],
   "source": [
    "@make_pretty\n",
    "def ordinary():\n",
    "    print(\"I am ordinary\")"
   ]
  },
  {
   "cell_type": "code",
   "execution_count": 170,
   "id": "a5b00627",
   "metadata": {},
   "outputs": [
    {
     "name": "stdout",
     "output_type": "stream",
     "text": [
      "I got decorated\n",
      "I am ordinary\n"
     ]
    }
   ],
   "source": [
    "ordinary()"
   ]
  },
  {
   "cell_type": "code",
   "execution_count": 171,
   "id": "99ab6d57",
   "metadata": {},
   "outputs": [],
   "source": [
    "def smart_divide(func):\n",
    "    def inner(a,b):\n",
    "        print(\"I am going to divide\",a,\"and\",b)\n",
    "        if b == 0:\n",
    "            print(\"Whoops! cannot divide\")\n",
    "            return\n",
    "\n",
    "        return func(a,b)\n",
    "    return inner\n",
    "\n",
    "@smart_divide\n",
    "def divide(a,b):\n",
    "    return a/b"
   ]
  },
  {
   "cell_type": "code",
   "execution_count": 172,
   "id": "02319119",
   "metadata": {},
   "outputs": [
    {
     "name": "stdout",
     "output_type": "stream",
     "text": [
      "I am going to divide 5 and 0\n",
      "Whoops! cannot divide\n"
     ]
    }
   ],
   "source": [
    "divide(5, 0)"
   ]
  },
  {
   "cell_type": "code",
   "execution_count": 173,
   "id": "96f3644f",
   "metadata": {},
   "outputs": [
    {
     "name": "stdout",
     "output_type": "stream",
     "text": [
      "******************************\n",
      "%%%%%%%%%%%%%%%%%%%%%%%%%%%%%%\n",
      "Hello\n",
      "%%%%%%%%%%%%%%%%%%%%%%%%%%%%%%\n",
      "******************************\n"
     ]
    }
   ],
   "source": [
    "def star(func):\n",
    "    def inner(*args, **kwargs):\n",
    "        print(\"*\" * 30)\n",
    "        func(*args, **kwargs)\n",
    "        print(\"*\" * 30)\n",
    "    return inner\n",
    "\n",
    "def percent(func):\n",
    "    def inner(*args, **kwargs):\n",
    "        print(\"%\" * 30)\n",
    "        func(*args, **kwargs)\n",
    "        print(\"%\" * 30)\n",
    "    return inner\n",
    "\n",
    "@star\n",
    "@percent\n",
    "def printer(msg):\n",
    "    print(msg)\n",
    "printer(\"Hello\")"
   ]
  },
  {
   "cell_type": "markdown",
   "id": "6f12a0ea",
   "metadata": {},
   "source": [
    "# Iterators and generators"
   ]
  },
  {
   "cell_type": "code",
   "execution_count": 174,
   "id": "8c2d7889",
   "metadata": {},
   "outputs": [
    {
     "name": "stdout",
     "output_type": "stream",
     "text": [
      "1\n",
      "3\n"
     ]
    }
   ],
   "source": [
    "a = [1, 3, 4, 5, 6]\n",
    "\n",
    "x = iter(a)\n",
    "\n",
    "print(x.__next__())\n",
    "print(x.__next__())"
   ]
  },
  {
   "cell_type": "code",
   "execution_count": 175,
   "id": "a846482e",
   "metadata": {},
   "outputs": [
    {
     "name": "stdout",
     "output_type": "stream",
     "text": [
      "10\n",
      "11\n",
      "12\n"
     ]
    }
   ],
   "source": [
    "from itertools import count\n",
    "\n",
    "counter = count(10)\n",
    "\n",
    "print(counter.__next__())\n",
    "print(counter.__next__())\n",
    "print(counter.__next__())"
   ]
  },
  {
   "cell_type": "code",
   "execution_count": 176,
   "id": "49f82df7",
   "metadata": {},
   "outputs": [
    {
     "name": "stdout",
     "output_type": "stream",
     "text": [
      "red\n",
      "greed\n",
      "blue\n",
      "red\n"
     ]
    }
   ],
   "source": [
    "from itertools import cycle\n",
    "\n",
    "colors = cycle([\"red\", \"greed\", \"blue\"])\n",
    "\n",
    "print(colors.__next__())\n",
    "print(colors.__next__())\n",
    "print(colors.__next__())\n",
    "print(colors.__next__())"
   ]
  },
  {
   "cell_type": "code",
   "execution_count": 177,
   "id": "e8087c37",
   "metadata": {},
   "outputs": [
    {
     "name": "stdout",
     "output_type": "stream",
     "text": [
      "5\n"
     ]
    }
   ],
   "source": [
    "class MyInfiniteIterable():\n",
    "    def __init__(self, value):\n",
    "        self.value = value\n",
    "\n",
    "    def __next__(self):\n",
    "        return self.value\n",
    "\n",
    "    def __iter__(self):\n",
    "        return self\n",
    "\n",
    "m = MyInfiniteIterable(5)\n",
    "print(m.__next__())"
   ]
  },
  {
   "cell_type": "code",
   "execution_count": 178,
   "id": "923cb8e5",
   "metadata": {},
   "outputs": [
    {
     "name": "stdout",
     "output_type": "stream",
     "text": [
      "3\n",
      "4\n",
      "5\n",
      "6\n",
      "7\n",
      "8\n",
      "9\n",
      "10\n"
     ]
    }
   ],
   "source": [
    "class MyRange():\n",
    "\n",
    "    def __init__(self, start, end):\n",
    "        self.current = start\n",
    "        self.start = start\n",
    "        self.end = end\n",
    "\n",
    "    def __iter__(self):\n",
    "        return self\n",
    "\n",
    "    def __next__(self):\n",
    "        if self.current > self.end:\n",
    "            raise StopIteration\n",
    "        else:\n",
    "            self.current += 1\n",
    "            return self.current - 1\n",
    "\n",
    "\n",
    "myrange = MyRange(3, 10)\n",
    "\n",
    "for i in myrange:\n",
    "    print(i)"
   ]
  },
  {
   "cell_type": "markdown",
   "id": "2f54d1dc",
   "metadata": {},
   "source": [
    "# yield"
   ]
  },
  {
   "cell_type": "code",
   "execution_count": 179,
   "id": "78077da3",
   "metadata": {},
   "outputs": [
    {
     "name": "stdout",
     "output_type": "stream",
     "text": [
      "0\n",
      "1\n",
      "2\n",
      "3\n",
      "4\n",
      "5\n",
      "6\n",
      "7\n",
      "8\n",
      "9\n"
     ]
    }
   ],
   "source": [
    "def firstn(n):\n",
    "    num = 0\n",
    "    while num < n:\n",
    "        yield num\n",
    "        num += 1\n",
    "\n",
    "for i in firstn(10):\n",
    "    print(i)"
   ]
  },
  {
   "cell_type": "markdown",
   "id": "5a91a849",
   "metadata": {},
   "source": [
    " return اجرا می شود تابع خاتمه پیدا می کند و از حافظه خارج می شود"
   ]
  },
  {
   "cell_type": "markdown",
   "id": "ca4455fb",
   "metadata": {},
   "source": [
    "yield مثل ساعت برنارد تابع را با تمام حالات آن نگه می دارد مقدار را بر میگرداند و منتظر می ماند تا چیزی که آن را فراخوانده است دوباره این کار را بکند!"
   ]
  },
  {
   "cell_type": "markdown",
   "id": "03ed15ca",
   "metadata": {},
   "source": [
    "# The constructor\n",
    "## The constructor is a method named __init__."
   ]
  },
  {
   "cell_type": "code",
   "execution_count": 183,
   "id": "c30af623",
   "metadata": {},
   "outputs": [
    {
     "name": "stdout",
     "output_type": "stream",
     "text": [
      "amir is 180 is 32\n"
     ]
    }
   ],
   "source": [
    "import datetime\n",
    "\n",
    "class Person:\n",
    "\tdef __init__(self, name, height, age):\n",
    "\t\tself.name = name\n",
    "\t\tself.height = height\n",
    "\t\tself.age = age\n",
    "\n",
    "\tdef show(self):\n",
    "\t\tprint(f'{self.name} is {self.height} is {self.age}')\n",
    "\n",
    "\t@classmethod\n",
    "\tdef from_birth(cls, name, height, age):\n",
    "\t\treturn cls(name, height, datetime.datetime.now().year - age)\n",
    "\n",
    "\n",
    "p = Person.from_birth('amir', 180, 1990)\n",
    "p.show()"
   ]
  },
  {
   "cell_type": "code",
   "execution_count": 184,
   "id": "fb70c876",
   "metadata": {},
   "outputs": [
    {
     "name": "stdout",
     "output_type": "stream",
     "text": [
      "yes\n"
     ]
    }
   ],
   "source": [
    "class Person:\n",
    "\tdef __init__(self, name, height, age):\n",
    "\t\tself.name = name\n",
    "\t\tself.height = height\n",
    "\t\tself.age = age\n",
    "\n",
    "\t@staticmethod\n",
    "\tdef is_adult(age):\n",
    "\t\tif age > 18:\n",
    "\t\t\tprint('yes')\n",
    "\t\telse:\n",
    "\t\t\tprint('no')\n",
    "\n",
    "Person.is_adult(23)"
   ]
  },
  {
   "cell_type": "markdown",
   "id": "8cdc1a00",
   "metadata": {},
   "source": [
    "##### python setup.py build\n",
    "##### python setup.py install # as root"
   ]
  },
  {
   "cell_type": "code",
   "execution_count": null,
   "id": "c4004b39",
   "metadata": {},
   "outputs": [],
   "source": []
  }
 ],
 "metadata": {
  "kernelspec": {
   "display_name": "Python 3",
   "language": "python",
   "name": "python3"
  },
  "language_info": {
   "codemirror_mode": {
    "name": "ipython",
    "version": 3
   },
   "file_extension": ".py",
   "mimetype": "text/x-python",
   "name": "python",
   "nbconvert_exporter": "python",
   "pygments_lexer": "ipython3",
   "version": "3.9.9"
  }
 },
 "nbformat": 4,
 "nbformat_minor": 5
}
